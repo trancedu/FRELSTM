{
  "nbformat": 4,
  "nbformat_minor": 0,
  "metadata": {
    "interpreter": {
      "hash": "5700407823d8fff39750214d9b0f6170cb72c6be1217f1beed20a85e740218ab"
    },
    "kernelspec": {
      "display_name": "Python 3.8.8 64-bit ('anaconda3': conda)",
      "language": "python",
      "name": "python3"
    },
    "language_info": {
      "codemirror_mode": {
        "name": "ipython",
        "version": 3
      },
      "file_extension": ".py",
      "mimetype": "text/x-python",
      "name": "python",
      "nbconvert_exporter": "python",
      "pygments_lexer": "ipython3",
      "version": "3.8.8"
    },
    "orig_nbformat": 4,
    "colab": {
      "name": "Copy of bert_vector.ipynb",
      "provenance": [],
      "collapsed_sections": [
        "1CIv9tvlFxEl",
        "kYswG_br7Pct",
        "ckEtGjU57HT6",
        "-0tm-x6l__XT",
        "Majqn5M4COd7"
      ],
      "include_colab_link": true
    },
    "accelerator": "GPU"
  },
  "cells": [
    {
      "cell_type": "markdown",
      "metadata": {
        "id": "view-in-github",
        "colab_type": "text"
      },
      "source": [
        "<a href=\"https://colab.research.google.com/github/trancedu/FRELSTM/blob/main/Copy_of_bert_vector.ipynb\" target=\"_parent\"><img src=\"https://colab.research.google.com/assets/colab-badge.svg\" alt=\"Open In Colab\"/></a>"
      ]
    },
    {
      "cell_type": "code",
      "metadata": {
        "colab": {
          "base_uri": "https://localhost:8080/"
        },
        "id": "UOpupCY8Dn-u",
        "outputId": "1accde34-3cab-4ee2-fbaa-e5d05551aad5"
      },
      "source": [
        "!pip install sentence_transformers\n",
        "!pip install d2l==0.17.0\n",
        "import d2l\n",
        "import pandas as pd\n",
        "import numpy as np\n",
        "from sentence_transformers import SentenceTransformer\n",
        "import matplotlib.pyplot as plt\n",
        "from sklearn.model_selection import train_test_split\n",
        "from sklearn.ensemble import RandomForestClassifier\n",
        "sentence_model = SentenceTransformer('stsb-distilbert-base')"
      ],
      "execution_count": 228,
      "outputs": [
        {
          "output_type": "stream",
          "name": "stdout",
          "text": [
            "Requirement already satisfied: sentence_transformers in /usr/local/lib/python3.7/dist-packages (2.1.0)\n",
            "Requirement already satisfied: huggingface-hub in /usr/local/lib/python3.7/dist-packages (from sentence_transformers) (0.2.1)\n",
            "Requirement already satisfied: numpy in /usr/local/lib/python3.7/dist-packages (from sentence_transformers) (1.19.5)\n",
            "Requirement already satisfied: transformers<5.0.0,>=4.6.0 in /usr/local/lib/python3.7/dist-packages (from sentence_transformers) (4.12.5)\n",
            "Requirement already satisfied: scikit-learn in /usr/local/lib/python3.7/dist-packages (from sentence_transformers) (1.0.1)\n",
            "Requirement already satisfied: torchvision in /usr/local/lib/python3.7/dist-packages (from sentence_transformers) (0.11.1+cu111)\n",
            "Requirement already satisfied: torch>=1.6.0 in /usr/local/lib/python3.7/dist-packages (from sentence_transformers) (1.10.0+cu111)\n",
            "Requirement already satisfied: tokenizers>=0.10.3 in /usr/local/lib/python3.7/dist-packages (from sentence_transformers) (0.10.3)\n",
            "Requirement already satisfied: nltk in /usr/local/lib/python3.7/dist-packages (from sentence_transformers) (3.2.5)\n",
            "Requirement already satisfied: tqdm in /usr/local/lib/python3.7/dist-packages (from sentence_transformers) (4.62.3)\n",
            "Requirement already satisfied: sentencepiece in /usr/local/lib/python3.7/dist-packages (from sentence_transformers) (0.1.96)\n",
            "Requirement already satisfied: scipy in /usr/local/lib/python3.7/dist-packages (from sentence_transformers) (1.4.1)\n",
            "Requirement already satisfied: typing-extensions in /usr/local/lib/python3.7/dist-packages (from torch>=1.6.0->sentence_transformers) (3.10.0.2)\n",
            "Requirement already satisfied: pyyaml>=5.1 in /usr/local/lib/python3.7/dist-packages (from transformers<5.0.0,>=4.6.0->sentence_transformers) (6.0)\n",
            "Requirement already satisfied: regex!=2019.12.17 in /usr/local/lib/python3.7/dist-packages (from transformers<5.0.0,>=4.6.0->sentence_transformers) (2019.12.20)\n",
            "Requirement already satisfied: packaging>=20.0 in /usr/local/lib/python3.7/dist-packages (from transformers<5.0.0,>=4.6.0->sentence_transformers) (21.3)\n",
            "Requirement already satisfied: filelock in /usr/local/lib/python3.7/dist-packages (from transformers<5.0.0,>=4.6.0->sentence_transformers) (3.4.0)\n",
            "Requirement already satisfied: sacremoses in /usr/local/lib/python3.7/dist-packages (from transformers<5.0.0,>=4.6.0->sentence_transformers) (0.0.46)\n",
            "Requirement already satisfied: importlib-metadata in /usr/local/lib/python3.7/dist-packages (from transformers<5.0.0,>=4.6.0->sentence_transformers) (4.8.2)\n",
            "Requirement already satisfied: requests in /usr/local/lib/python3.7/dist-packages (from transformers<5.0.0,>=4.6.0->sentence_transformers) (2.23.0)\n",
            "Requirement already satisfied: pyparsing!=3.0.5,>=2.0.2 in /usr/local/lib/python3.7/dist-packages (from packaging>=20.0->transformers<5.0.0,>=4.6.0->sentence_transformers) (3.0.6)\n",
            "Requirement already satisfied: zipp>=0.5 in /usr/local/lib/python3.7/dist-packages (from importlib-metadata->transformers<5.0.0,>=4.6.0->sentence_transformers) (3.6.0)\n",
            "Requirement already satisfied: six in /usr/local/lib/python3.7/dist-packages (from nltk->sentence_transformers) (1.15.0)\n",
            "Requirement already satisfied: certifi>=2017.4.17 in /usr/local/lib/python3.7/dist-packages (from requests->transformers<5.0.0,>=4.6.0->sentence_transformers) (2021.10.8)\n",
            "Requirement already satisfied: idna<3,>=2.5 in /usr/local/lib/python3.7/dist-packages (from requests->transformers<5.0.0,>=4.6.0->sentence_transformers) (2.10)\n",
            "Requirement already satisfied: chardet<4,>=3.0.2 in /usr/local/lib/python3.7/dist-packages (from requests->transformers<5.0.0,>=4.6.0->sentence_transformers) (3.0.4)\n",
            "Requirement already satisfied: urllib3!=1.25.0,!=1.25.1,<1.26,>=1.21.1 in /usr/local/lib/python3.7/dist-packages (from requests->transformers<5.0.0,>=4.6.0->sentence_transformers) (1.24.3)\n",
            "Requirement already satisfied: joblib in /usr/local/lib/python3.7/dist-packages (from sacremoses->transformers<5.0.0,>=4.6.0->sentence_transformers) (1.1.0)\n",
            "Requirement already satisfied: click in /usr/local/lib/python3.7/dist-packages (from sacremoses->transformers<5.0.0,>=4.6.0->sentence_transformers) (7.1.2)\n",
            "Requirement already satisfied: threadpoolctl>=2.0.0 in /usr/local/lib/python3.7/dist-packages (from scikit-learn->sentence_transformers) (3.0.0)\n",
            "Requirement already satisfied: pillow!=8.3.0,>=5.3.0 in /usr/local/lib/python3.7/dist-packages (from torchvision->sentence_transformers) (7.1.2)\n",
            "Requirement already satisfied: d2l==0.17.0 in /usr/local/lib/python3.7/dist-packages (0.17.0)\n",
            "Requirement already satisfied: jupyter in /usr/local/lib/python3.7/dist-packages (from d2l==0.17.0) (1.0.0)\n",
            "Requirement already satisfied: matplotlib in /usr/local/lib/python3.7/dist-packages (from d2l==0.17.0) (3.2.2)\n",
            "Requirement already satisfied: requests in /usr/local/lib/python3.7/dist-packages (from d2l==0.17.0) (2.23.0)\n",
            "Requirement already satisfied: numpy in /usr/local/lib/python3.7/dist-packages (from d2l==0.17.0) (1.19.5)\n",
            "Requirement already satisfied: pandas in /usr/local/lib/python3.7/dist-packages (from d2l==0.17.0) (1.1.5)\n",
            "Requirement already satisfied: qtconsole in /usr/local/lib/python3.7/dist-packages (from jupyter->d2l==0.17.0) (5.2.1)\n",
            "Requirement already satisfied: notebook in /usr/local/lib/python3.7/dist-packages (from jupyter->d2l==0.17.0) (5.3.1)\n",
            "Requirement already satisfied: ipykernel in /usr/local/lib/python3.7/dist-packages (from jupyter->d2l==0.17.0) (4.10.1)\n",
            "Requirement already satisfied: ipywidgets in /usr/local/lib/python3.7/dist-packages (from jupyter->d2l==0.17.0) (7.6.5)\n",
            "Requirement already satisfied: nbconvert in /usr/local/lib/python3.7/dist-packages (from jupyter->d2l==0.17.0) (5.6.1)\n",
            "Requirement already satisfied: jupyter-console in /usr/local/lib/python3.7/dist-packages (from jupyter->d2l==0.17.0) (5.2.0)\n",
            "Requirement already satisfied: jupyter-client in /usr/local/lib/python3.7/dist-packages (from ipykernel->jupyter->d2l==0.17.0) (5.3.5)\n",
            "Requirement already satisfied: ipython>=4.0.0 in /usr/local/lib/python3.7/dist-packages (from ipykernel->jupyter->d2l==0.17.0) (5.5.0)\n",
            "Requirement already satisfied: tornado>=4.0 in /usr/local/lib/python3.7/dist-packages (from ipykernel->jupyter->d2l==0.17.0) (5.1.1)\n",
            "Requirement already satisfied: traitlets>=4.1.0 in /usr/local/lib/python3.7/dist-packages (from ipykernel->jupyter->d2l==0.17.0) (5.1.1)\n",
            "Requirement already satisfied: decorator in /usr/local/lib/python3.7/dist-packages (from ipython>=4.0.0->ipykernel->jupyter->d2l==0.17.0) (4.4.2)\n",
            "Requirement already satisfied: prompt-toolkit<2.0.0,>=1.0.4 in /usr/local/lib/python3.7/dist-packages (from ipython>=4.0.0->ipykernel->jupyter->d2l==0.17.0) (1.0.18)\n",
            "Requirement already satisfied: setuptools>=18.5 in /usr/local/lib/python3.7/dist-packages (from ipython>=4.0.0->ipykernel->jupyter->d2l==0.17.0) (57.4.0)\n",
            "Requirement already satisfied: pexpect in /usr/local/lib/python3.7/dist-packages (from ipython>=4.0.0->ipykernel->jupyter->d2l==0.17.0) (4.8.0)\n",
            "Requirement already satisfied: pygments in /usr/local/lib/python3.7/dist-packages (from ipython>=4.0.0->ipykernel->jupyter->d2l==0.17.0) (2.6.1)\n",
            "Requirement already satisfied: simplegeneric>0.8 in /usr/local/lib/python3.7/dist-packages (from ipython>=4.0.0->ipykernel->jupyter->d2l==0.17.0) (0.8.1)\n",
            "Requirement already satisfied: pickleshare in /usr/local/lib/python3.7/dist-packages (from ipython>=4.0.0->ipykernel->jupyter->d2l==0.17.0) (0.7.5)\n",
            "Requirement already satisfied: wcwidth in /usr/local/lib/python3.7/dist-packages (from prompt-toolkit<2.0.0,>=1.0.4->ipython>=4.0.0->ipykernel->jupyter->d2l==0.17.0) (0.2.5)\n",
            "Requirement already satisfied: six>=1.9.0 in /usr/local/lib/python3.7/dist-packages (from prompt-toolkit<2.0.0,>=1.0.4->ipython>=4.0.0->ipykernel->jupyter->d2l==0.17.0) (1.15.0)\n",
            "Requirement already satisfied: nbformat>=4.2.0 in /usr/local/lib/python3.7/dist-packages (from ipywidgets->jupyter->d2l==0.17.0) (5.1.3)\n",
            "Requirement already satisfied: jupyterlab-widgets>=1.0.0 in /usr/local/lib/python3.7/dist-packages (from ipywidgets->jupyter->d2l==0.17.0) (1.0.2)\n",
            "Requirement already satisfied: widgetsnbextension~=3.5.0 in /usr/local/lib/python3.7/dist-packages (from ipywidgets->jupyter->d2l==0.17.0) (3.5.2)\n",
            "Requirement already satisfied: ipython-genutils~=0.2.0 in /usr/local/lib/python3.7/dist-packages (from ipywidgets->jupyter->d2l==0.17.0) (0.2.0)\n",
            "Requirement already satisfied: jsonschema!=2.5.0,>=2.4 in /usr/local/lib/python3.7/dist-packages (from nbformat>=4.2.0->ipywidgets->jupyter->d2l==0.17.0) (2.6.0)\n",
            "Requirement already satisfied: jupyter-core in /usr/local/lib/python3.7/dist-packages (from nbformat>=4.2.0->ipywidgets->jupyter->d2l==0.17.0) (4.9.1)\n",
            "Requirement already satisfied: jinja2 in /usr/local/lib/python3.7/dist-packages (from notebook->jupyter->d2l==0.17.0) (2.11.3)\n",
            "Requirement already satisfied: terminado>=0.8.1 in /usr/local/lib/python3.7/dist-packages (from notebook->jupyter->d2l==0.17.0) (0.12.1)\n",
            "Requirement already satisfied: Send2Trash in /usr/local/lib/python3.7/dist-packages (from notebook->jupyter->d2l==0.17.0) (1.8.0)\n",
            "Requirement already satisfied: python-dateutil>=2.1 in /usr/local/lib/python3.7/dist-packages (from jupyter-client->ipykernel->jupyter->d2l==0.17.0) (2.8.2)\n",
            "Requirement already satisfied: pyzmq>=13 in /usr/local/lib/python3.7/dist-packages (from jupyter-client->ipykernel->jupyter->d2l==0.17.0) (22.3.0)\n",
            "Requirement already satisfied: ptyprocess in /usr/local/lib/python3.7/dist-packages (from terminado>=0.8.1->notebook->jupyter->d2l==0.17.0) (0.7.0)\n",
            "Requirement already satisfied: MarkupSafe>=0.23 in /usr/local/lib/python3.7/dist-packages (from jinja2->notebook->jupyter->d2l==0.17.0) (2.0.1)\n",
            "Requirement already satisfied: cycler>=0.10 in /usr/local/lib/python3.7/dist-packages (from matplotlib->d2l==0.17.0) (0.11.0)\n",
            "Requirement already satisfied: kiwisolver>=1.0.1 in /usr/local/lib/python3.7/dist-packages (from matplotlib->d2l==0.17.0) (1.3.2)\n",
            "Requirement already satisfied: pyparsing!=2.0.4,!=2.1.2,!=2.1.6,>=2.0.1 in /usr/local/lib/python3.7/dist-packages (from matplotlib->d2l==0.17.0) (3.0.6)\n",
            "Requirement already satisfied: entrypoints>=0.2.2 in /usr/local/lib/python3.7/dist-packages (from nbconvert->jupyter->d2l==0.17.0) (0.3)\n",
            "Requirement already satisfied: defusedxml in /usr/local/lib/python3.7/dist-packages (from nbconvert->jupyter->d2l==0.17.0) (0.7.1)\n",
            "Requirement already satisfied: pandocfilters>=1.4.1 in /usr/local/lib/python3.7/dist-packages (from nbconvert->jupyter->d2l==0.17.0) (1.5.0)\n",
            "Requirement already satisfied: bleach in /usr/local/lib/python3.7/dist-packages (from nbconvert->jupyter->d2l==0.17.0) (4.1.0)\n",
            "Requirement already satisfied: testpath in /usr/local/lib/python3.7/dist-packages (from nbconvert->jupyter->d2l==0.17.0) (0.5.0)\n",
            "Requirement already satisfied: mistune<2,>=0.8.1 in /usr/local/lib/python3.7/dist-packages (from nbconvert->jupyter->d2l==0.17.0) (0.8.4)\n",
            "Requirement already satisfied: webencodings in /usr/local/lib/python3.7/dist-packages (from bleach->nbconvert->jupyter->d2l==0.17.0) (0.5.1)\n",
            "Requirement already satisfied: packaging in /usr/local/lib/python3.7/dist-packages (from bleach->nbconvert->jupyter->d2l==0.17.0) (21.3)\n",
            "Requirement already satisfied: pytz>=2017.2 in /usr/local/lib/python3.7/dist-packages (from pandas->d2l==0.17.0) (2018.9)\n",
            "Requirement already satisfied: qtpy in /usr/local/lib/python3.7/dist-packages (from qtconsole->jupyter->d2l==0.17.0) (1.11.2)\n",
            "Requirement already satisfied: certifi>=2017.4.17 in /usr/local/lib/python3.7/dist-packages (from requests->d2l==0.17.0) (2021.10.8)\n",
            "Requirement already satisfied: chardet<4,>=3.0.2 in /usr/local/lib/python3.7/dist-packages (from requests->d2l==0.17.0) (3.0.4)\n",
            "Requirement already satisfied: idna<3,>=2.5 in /usr/local/lib/python3.7/dist-packages (from requests->d2l==0.17.0) (2.10)\n",
            "Requirement already satisfied: urllib3!=1.25.0,!=1.25.1,<1.26,>=1.21.1 in /usr/local/lib/python3.7/dist-packages (from requests->d2l==0.17.0) (1.24.3)\n"
          ]
        }
      ]
    },
    {
      "cell_type": "code",
      "metadata": {
        "colab": {
          "base_uri": "https://localhost:8080/"
        },
        "id": "rDjj2iQ4k2kf",
        "outputId": "815bc1fe-df0a-4192-beed-22aa3f2e6a0f"
      },
      "source": [
        "# 这一步是加载数据，如果在本地，这一步不需要跑\n",
        "# 或者直接 colab 上传数据即可\n",
        "from google.colab import drive\n",
        "drive.mount('/content/drive')\n",
        "!cp drive/MyDrive/files/analyst_return_industry.csv ."
      ],
      "execution_count": 229,
      "outputs": [
        {
          "output_type": "stream",
          "name": "stdout",
          "text": [
            "Drive already mounted at /content/drive; to attempt to forcibly remount, call drive.mount(\"/content/drive\", force_remount=True).\n"
          ]
        }
      ]
    },
    {
      "cell_type": "code",
      "source": [
        "!cp drive/MyDrive/files/stock_return.csv ."
      ],
      "metadata": {
        "id": "BRaZWspSyW5W"
      },
      "execution_count": 230,
      "outputs": []
    },
    {
      "cell_type": "code",
      "source": [
        "df_returns = pd.read_csv(\"stock_return.csv\")\n",
        "df_returns.head()"
      ],
      "metadata": {
        "colab": {
          "base_uri": "https://localhost:8080/",
          "height": 423
        },
        "id": "inNEKqNLycJA",
        "outputId": "bb852b29-8795-4a3f-b0f6-5c261fae7803"
      },
      "execution_count": 231,
      "outputs": [
        {
          "output_type": "execute_result",
          "data": {
            "text/html": [
              "<div>\n",
              "<style scoped>\n",
              "    .dataframe tbody tr th:only-of-type {\n",
              "        vertical-align: middle;\n",
              "    }\n",
              "\n",
              "    .dataframe tbody tr th {\n",
              "        vertical-align: top;\n",
              "    }\n",
              "\n",
              "    .dataframe thead th {\n",
              "        text-align: right;\n",
              "    }\n",
              "</style>\n",
              "<table border=\"1\" class=\"dataframe\">\n",
              "  <thead>\n",
              "    <tr style=\"text-align: right;\">\n",
              "      <th></th>\n",
              "      <th>Date</th>\n",
              "      <th>A</th>\n",
              "      <th>AAL</th>\n",
              "      <th>AAP</th>\n",
              "      <th>AAPL</th>\n",
              "      <th>ABBV</th>\n",
              "      <th>ABC</th>\n",
              "      <th>ABMD</th>\n",
              "      <th>ABT</th>\n",
              "      <th>ACN</th>\n",
              "      <th>ADBE</th>\n",
              "      <th>ADI</th>\n",
              "      <th>ADM</th>\n",
              "      <th>ADP</th>\n",
              "      <th>ADSK</th>\n",
              "      <th>AEE</th>\n",
              "      <th>AEP</th>\n",
              "      <th>AES</th>\n",
              "      <th>AFL</th>\n",
              "      <th>AIG</th>\n",
              "      <th>AIZ</th>\n",
              "      <th>AJG</th>\n",
              "      <th>AKAM</th>\n",
              "      <th>ALB</th>\n",
              "      <th>ALGN</th>\n",
              "      <th>ALK</th>\n",
              "      <th>ALL</th>\n",
              "      <th>ALLE</th>\n",
              "      <th>AMAT</th>\n",
              "      <th>AMCR</th>\n",
              "      <th>AMD</th>\n",
              "      <th>AME</th>\n",
              "      <th>AMGN</th>\n",
              "      <th>AMP</th>\n",
              "      <th>AMT</th>\n",
              "      <th>AMZN</th>\n",
              "      <th>ANET</th>\n",
              "      <th>ANSS</th>\n",
              "      <th>ANTM</th>\n",
              "      <th>AON</th>\n",
              "      <th>...</th>\n",
              "      <th>V</th>\n",
              "      <th>VFC</th>\n",
              "      <th>VIAC</th>\n",
              "      <th>VLO</th>\n",
              "      <th>VMC</th>\n",
              "      <th>VNO</th>\n",
              "      <th>VRSK</th>\n",
              "      <th>VRSN</th>\n",
              "      <th>VRTX</th>\n",
              "      <th>VTR</th>\n",
              "      <th>VTRS</th>\n",
              "      <th>VZ</th>\n",
              "      <th>WAB</th>\n",
              "      <th>WAT</th>\n",
              "      <th>WBA</th>\n",
              "      <th>WDC</th>\n",
              "      <th>WEC</th>\n",
              "      <th>WELL</th>\n",
              "      <th>WFC</th>\n",
              "      <th>WHR</th>\n",
              "      <th>WLTW</th>\n",
              "      <th>WM</th>\n",
              "      <th>WMB</th>\n",
              "      <th>WMT</th>\n",
              "      <th>WRB</th>\n",
              "      <th>WRK</th>\n",
              "      <th>WST</th>\n",
              "      <th>WU</th>\n",
              "      <th>WY</th>\n",
              "      <th>WYNN</th>\n",
              "      <th>XEL</th>\n",
              "      <th>XLNX</th>\n",
              "      <th>XOM</th>\n",
              "      <th>XRAY</th>\n",
              "      <th>XYL</th>\n",
              "      <th>YUM</th>\n",
              "      <th>ZBH</th>\n",
              "      <th>ZBRA</th>\n",
              "      <th>ZION</th>\n",
              "      <th>ZTS</th>\n",
              "    </tr>\n",
              "  </thead>\n",
              "  <tbody>\n",
              "    <tr>\n",
              "      <th>0</th>\n",
              "      <td>2018-01-02 00:00:00</td>\n",
              "      <td>NaN</td>\n",
              "      <td>NaN</td>\n",
              "      <td>NaN</td>\n",
              "      <td>NaN</td>\n",
              "      <td>NaN</td>\n",
              "      <td>NaN</td>\n",
              "      <td>NaN</td>\n",
              "      <td>NaN</td>\n",
              "      <td>NaN</td>\n",
              "      <td>NaN</td>\n",
              "      <td>NaN</td>\n",
              "      <td>NaN</td>\n",
              "      <td>NaN</td>\n",
              "      <td>NaN</td>\n",
              "      <td>NaN</td>\n",
              "      <td>NaN</td>\n",
              "      <td>NaN</td>\n",
              "      <td>NaN</td>\n",
              "      <td>NaN</td>\n",
              "      <td>NaN</td>\n",
              "      <td>NaN</td>\n",
              "      <td>NaN</td>\n",
              "      <td>NaN</td>\n",
              "      <td>NaN</td>\n",
              "      <td>NaN</td>\n",
              "      <td>NaN</td>\n",
              "      <td>NaN</td>\n",
              "      <td>NaN</td>\n",
              "      <td>NaN</td>\n",
              "      <td>NaN</td>\n",
              "      <td>NaN</td>\n",
              "      <td>NaN</td>\n",
              "      <td>NaN</td>\n",
              "      <td>NaN</td>\n",
              "      <td>NaN</td>\n",
              "      <td>NaN</td>\n",
              "      <td>NaN</td>\n",
              "      <td>NaN</td>\n",
              "      <td>NaN</td>\n",
              "      <td>...</td>\n",
              "      <td>NaN</td>\n",
              "      <td>NaN</td>\n",
              "      <td>NaN</td>\n",
              "      <td>NaN</td>\n",
              "      <td>NaN</td>\n",
              "      <td>NaN</td>\n",
              "      <td>NaN</td>\n",
              "      <td>NaN</td>\n",
              "      <td>NaN</td>\n",
              "      <td>NaN</td>\n",
              "      <td>NaN</td>\n",
              "      <td>NaN</td>\n",
              "      <td>NaN</td>\n",
              "      <td>NaN</td>\n",
              "      <td>NaN</td>\n",
              "      <td>NaN</td>\n",
              "      <td>NaN</td>\n",
              "      <td>NaN</td>\n",
              "      <td>NaN</td>\n",
              "      <td>NaN</td>\n",
              "      <td>NaN</td>\n",
              "      <td>NaN</td>\n",
              "      <td>NaN</td>\n",
              "      <td>NaN</td>\n",
              "      <td>NaN</td>\n",
              "      <td>NaN</td>\n",
              "      <td>NaN</td>\n",
              "      <td>NaN</td>\n",
              "      <td>NaN</td>\n",
              "      <td>NaN</td>\n",
              "      <td>NaN</td>\n",
              "      <td>NaN</td>\n",
              "      <td>NaN</td>\n",
              "      <td>NaN</td>\n",
              "      <td>NaN</td>\n",
              "      <td>NaN</td>\n",
              "      <td>NaN</td>\n",
              "      <td>NaN</td>\n",
              "      <td>NaN</td>\n",
              "      <td>NaN</td>\n",
              "    </tr>\n",
              "    <tr>\n",
              "      <th>1</th>\n",
              "      <td>2018-01-03 00:00:00</td>\n",
              "      <td>0.025444</td>\n",
              "      <td>-0.012266</td>\n",
              "      <td>0.009049</td>\n",
              "      <td>-0.000174</td>\n",
              "      <td>0.015649</td>\n",
              "      <td>0.003722</td>\n",
              "      <td>0.017300</td>\n",
              "      <td>0.002211</td>\n",
              "      <td>0.004615</td>\n",
              "      <td>0.018796</td>\n",
              "      <td>0.012406</td>\n",
              "      <td>-0.007732</td>\n",
              "      <td>0.010863</td>\n",
              "      <td>0.021098</td>\n",
              "      <td>-0.005138</td>\n",
              "      <td>-0.008424</td>\n",
              "      <td>-0.000919</td>\n",
              "      <td>0.002956</td>\n",
              "      <td>0.011092</td>\n",
              "      <td>0.002822</td>\n",
              "      <td>0.007560</td>\n",
              "      <td>0.005796</td>\n",
              "      <td>0.001977</td>\n",
              "      <td>0.029294</td>\n",
              "      <td>-0.004666</td>\n",
              "      <td>0.000589</td>\n",
              "      <td>0.004255</td>\n",
              "      <td>0.017722</td>\n",
              "      <td>0.0</td>\n",
              "      <td>0.051913</td>\n",
              "      <td>0.008797</td>\n",
              "      <td>0.018870</td>\n",
              "      <td>-0.004944</td>\n",
              "      <td>0.003897</td>\n",
              "      <td>0.012775</td>\n",
              "      <td>0.019781</td>\n",
              "      <td>0.019320</td>\n",
              "      <td>0.013938</td>\n",
              "      <td>0.015971</td>\n",
              "      <td>...</td>\n",
              "      <td>0.009955</td>\n",
              "      <td>-0.008600</td>\n",
              "      <td>0.000507</td>\n",
              "      <td>0.005280</td>\n",
              "      <td>0.018351</td>\n",
              "      <td>-0.002845</td>\n",
              "      <td>-0.002922</td>\n",
              "      <td>0.013063</td>\n",
              "      <td>-0.005886</td>\n",
              "      <td>0.006024</td>\n",
              "      <td>0.000696</td>\n",
              "      <td>-0.020549</td>\n",
              "      <td>-0.008079</td>\n",
              "      <td>0.010629</td>\n",
              "      <td>0.007472</td>\n",
              "      <td>0.015852</td>\n",
              "      <td>-0.003497</td>\n",
              "      <td>0.001718</td>\n",
              "      <td>0.007694</td>\n",
              "      <td>0.005060</td>\n",
              "      <td>0.018709</td>\n",
              "      <td>0.014518</td>\n",
              "      <td>0.027617</td>\n",
              "      <td>0.008723</td>\n",
              "      <td>-0.008281</td>\n",
              "      <td>0.010663</td>\n",
              "      <td>0.001206</td>\n",
              "      <td>-0.000524</td>\n",
              "      <td>0.008782</td>\n",
              "      <td>-0.010834</td>\n",
              "      <td>-0.006693</td>\n",
              "      <td>0.020036</td>\n",
              "      <td>0.019640</td>\n",
              "      <td>-0.003426</td>\n",
              "      <td>0.012193</td>\n",
              "      <td>-0.000858</td>\n",
              "      <td>0.006932</td>\n",
              "      <td>0.019863</td>\n",
              "      <td>-0.001183</td>\n",
              "      <td>0.004598</td>\n",
              "    </tr>\n",
              "    <tr>\n",
              "      <th>2</th>\n",
              "      <td>2018-01-04 00:00:00</td>\n",
              "      <td>-0.007501</td>\n",
              "      <td>0.006305</td>\n",
              "      <td>0.036899</td>\n",
              "      <td>0.004645</td>\n",
              "      <td>-0.005703</td>\n",
              "      <td>-0.002225</td>\n",
              "      <td>0.017516</td>\n",
              "      <td>-0.001697</td>\n",
              "      <td>0.011841</td>\n",
              "      <td>0.012042</td>\n",
              "      <td>-0.001094</td>\n",
              "      <td>0.016843</td>\n",
              "      <td>0.009552</td>\n",
              "      <td>0.024593</td>\n",
              "      <td>-0.011362</td>\n",
              "      <td>-0.011838</td>\n",
              "      <td>-0.003680</td>\n",
              "      <td>0.010314</td>\n",
              "      <td>0.003990</td>\n",
              "      <td>0.005426</td>\n",
              "      <td>0.009259</td>\n",
              "      <td>-0.005156</td>\n",
              "      <td>-0.011913</td>\n",
              "      <td>0.009083</td>\n",
              "      <td>-0.010849</td>\n",
              "      <td>-0.011571</td>\n",
              "      <td>0.013956</td>\n",
              "      <td>0.005743</td>\n",
              "      <td>0.0</td>\n",
              "      <td>0.049351</td>\n",
              "      <td>0.008039</td>\n",
              "      <td>-0.004214</td>\n",
              "      <td>0.003667</td>\n",
              "      <td>-0.014610</td>\n",
              "      <td>0.004476</td>\n",
              "      <td>-0.012351</td>\n",
              "      <td>0.002642</td>\n",
              "      <td>0.004626</td>\n",
              "      <td>0.013699</td>\n",
              "      <td>...</td>\n",
              "      <td>0.003718</td>\n",
              "      <td>0.022770</td>\n",
              "      <td>-0.020270</td>\n",
              "      <td>0.003216</td>\n",
              "      <td>-0.006776</td>\n",
              "      <td>-0.029832</td>\n",
              "      <td>0.005024</td>\n",
              "      <td>0.005140</td>\n",
              "      <td>0.006973</td>\n",
              "      <td>-0.024451</td>\n",
              "      <td>0.027121</td>\n",
              "      <td>0.003242</td>\n",
              "      <td>0.013494</td>\n",
              "      <td>0.009557</td>\n",
              "      <td>-0.051781</td>\n",
              "      <td>-0.006048</td>\n",
              "      <td>-0.003509</td>\n",
              "      <td>-0.021515</td>\n",
              "      <td>0.012508</td>\n",
              "      <td>-0.000119</td>\n",
              "      <td>0.010151</td>\n",
              "      <td>0.008586</td>\n",
              "      <td>0.017188</td>\n",
              "      <td>0.000905</td>\n",
              "      <td>0.004031</td>\n",
              "      <td>0.025076</td>\n",
              "      <td>-0.000301</td>\n",
              "      <td>0.019926</td>\n",
              "      <td>-0.008144</td>\n",
              "      <td>0.005415</td>\n",
              "      <td>-0.007791</td>\n",
              "      <td>0.018053</td>\n",
              "      <td>0.001384</td>\n",
              "      <td>-0.000149</td>\n",
              "      <td>0.006676</td>\n",
              "      <td>0.010180</td>\n",
              "      <td>-0.001441</td>\n",
              "      <td>0.019760</td>\n",
              "      <td>0.004147</td>\n",
              "      <td>0.005964</td>\n",
              "    </tr>\n",
              "    <tr>\n",
              "      <th>3</th>\n",
              "      <td>2018-01-05 00:00:00</td>\n",
              "      <td>0.015989</td>\n",
              "      <td>-0.000380</td>\n",
              "      <td>0.010631</td>\n",
              "      <td>0.011385</td>\n",
              "      <td>0.017408</td>\n",
              "      <td>0.012104</td>\n",
              "      <td>0.015408</td>\n",
              "      <td>0.002890</td>\n",
              "      <td>0.008249</td>\n",
              "      <td>0.011571</td>\n",
              "      <td>0.004052</td>\n",
              "      <td>-0.006675</td>\n",
              "      <td>-0.000591</td>\n",
              "      <td>-0.010975</td>\n",
              "      <td>-0.000696</td>\n",
              "      <td>-0.002114</td>\n",
              "      <td>0.003694</td>\n",
              "      <td>0.006619</td>\n",
              "      <td>0.004139</td>\n",
              "      <td>0.012594</td>\n",
              "      <td>0.004587</td>\n",
              "      <td>0.003506</td>\n",
              "      <td>0.011519</td>\n",
              "      <td>0.033305</td>\n",
              "      <td>-0.001490</td>\n",
              "      <td>0.010615</td>\n",
              "      <td>0.002458</td>\n",
              "      <td>0.005710</td>\n",
              "      <td>0.0</td>\n",
              "      <td>-0.019802</td>\n",
              "      <td>-0.002568</td>\n",
              "      <td>0.005958</td>\n",
              "      <td>0.003418</td>\n",
              "      <td>0.006446</td>\n",
              "      <td>0.016163</td>\n",
              "      <td>0.017534</td>\n",
              "      <td>0.004150</td>\n",
              "      <td>0.017940</td>\n",
              "      <td>0.008492</td>\n",
              "      <td>...</td>\n",
              "      <td>0.023949</td>\n",
              "      <td>0.003180</td>\n",
              "      <td>-0.007241</td>\n",
              "      <td>0.004701</td>\n",
              "      <td>-0.011096</td>\n",
              "      <td>0.008556</td>\n",
              "      <td>0.008851</td>\n",
              "      <td>0.013726</td>\n",
              "      <td>0.017116</td>\n",
              "      <td>-0.005115</td>\n",
              "      <td>0.005191</td>\n",
              "      <td>-0.002281</td>\n",
              "      <td>-0.018472</td>\n",
              "      <td>0.012872</td>\n",
              "      <td>0.018435</td>\n",
              "      <td>0.006328</td>\n",
              "      <td>-0.006737</td>\n",
              "      <td>-0.006214</td>\n",
              "      <td>0.006738</td>\n",
              "      <td>-0.002014</td>\n",
              "      <td>0.006413</td>\n",
              "      <td>-0.001249</td>\n",
              "      <td>-0.002765</td>\n",
              "      <td>0.005927</td>\n",
              "      <td>-0.004158</td>\n",
              "      <td>0.004027</td>\n",
              "      <td>0.012551</td>\n",
              "      <td>0.059126</td>\n",
              "      <td>-0.001415</td>\n",
              "      <td>0.006671</td>\n",
              "      <td>-0.007003</td>\n",
              "      <td>0.051922</td>\n",
              "      <td>-0.000806</td>\n",
              "      <td>0.014051</td>\n",
              "      <td>-0.001874</td>\n",
              "      <td>0.005828</td>\n",
              "      <td>0.009941</td>\n",
              "      <td>0.015576</td>\n",
              "      <td>0.000393</td>\n",
              "      <td>0.011444</td>\n",
              "    </tr>\n",
              "    <tr>\n",
              "      <th>4</th>\n",
              "      <td>2018-01-08 00:00:00</td>\n",
              "      <td>0.002146</td>\n",
              "      <td>-0.009877</td>\n",
              "      <td>-0.007042</td>\n",
              "      <td>-0.003714</td>\n",
              "      <td>-0.016022</td>\n",
              "      <td>0.016576</td>\n",
              "      <td>0.027086</td>\n",
              "      <td>-0.002882</td>\n",
              "      <td>0.007991</td>\n",
              "      <td>-0.001619</td>\n",
              "      <td>0.001746</td>\n",
              "      <td>-0.002240</td>\n",
              "      <td>-0.003043</td>\n",
              "      <td>0.005233</td>\n",
              "      <td>0.011849</td>\n",
              "      <td>0.008757</td>\n",
              "      <td>0.000000</td>\n",
              "      <td>0.002563</td>\n",
              "      <td>-0.006595</td>\n",
              "      <td>-0.015892</td>\n",
              "      <td>0.000630</td>\n",
              "      <td>0.000759</td>\n",
              "      <td>0.043501</td>\n",
              "      <td>0.032480</td>\n",
              "      <td>-0.013426</td>\n",
              "      <td>-0.004712</td>\n",
              "      <td>-0.004045</td>\n",
              "      <td>0.024176</td>\n",
              "      <td>0.0</td>\n",
              "      <td>0.033670</td>\n",
              "      <td>0.006640</td>\n",
              "      <td>-0.000277</td>\n",
              "      <td>0.010160</td>\n",
              "      <td>0.010676</td>\n",
              "      <td>0.014425</td>\n",
              "      <td>0.060354</td>\n",
              "      <td>0.008265</td>\n",
              "      <td>-0.010753</td>\n",
              "      <td>0.000073</td>\n",
              "      <td>...</td>\n",
              "      <td>0.004038</td>\n",
              "      <td>0.021929</td>\n",
              "      <td>-0.014241</td>\n",
              "      <td>0.002021</td>\n",
              "      <td>0.015466</td>\n",
              "      <td>-0.011399</td>\n",
              "      <td>0.001239</td>\n",
              "      <td>0.011593</td>\n",
              "      <td>0.007708</td>\n",
              "      <td>0.001714</td>\n",
              "      <td>0.000449</td>\n",
              "      <td>-0.001715</td>\n",
              "      <td>0.006599</td>\n",
              "      <td>0.012511</td>\n",
              "      <td>0.012754</td>\n",
              "      <td>-0.015117</td>\n",
              "      <td>0.008633</td>\n",
              "      <td>0.003527</td>\n",
              "      <td>-0.011315</td>\n",
              "      <td>0.003383</td>\n",
              "      <td>-0.005386</td>\n",
              "      <td>0.000682</td>\n",
              "      <td>0.003697</td>\n",
              "      <td>0.014781</td>\n",
              "      <td>-0.005040</td>\n",
              "      <td>0.006686</td>\n",
              "      <td>0.005653</td>\n",
              "      <td>0.043204</td>\n",
              "      <td>0.006521</td>\n",
              "      <td>-0.013314</td>\n",
              "      <td>0.007480</td>\n",
              "      <td>0.006608</td>\n",
              "      <td>0.004496</td>\n",
              "      <td>0.006781</td>\n",
              "      <td>0.003611</td>\n",
              "      <td>0.001690</td>\n",
              "      <td>0.001905</td>\n",
              "      <td>0.009951</td>\n",
              "      <td>-0.004914</td>\n",
              "      <td>0.011996</td>\n",
              "    </tr>\n",
              "  </tbody>\n",
              "</table>\n",
              "<p>5 rows × 506 columns</p>\n",
              "</div>"
            ],
            "text/plain": [
              "                  Date         A       AAL  ...      ZBRA      ZION       ZTS\n",
              "0  2018-01-02 00:00:00       NaN       NaN  ...       NaN       NaN       NaN\n",
              "1  2018-01-03 00:00:00  0.025444 -0.012266  ...  0.019863 -0.001183  0.004598\n",
              "2  2018-01-04 00:00:00 -0.007501  0.006305  ...  0.019760  0.004147  0.005964\n",
              "3  2018-01-05 00:00:00  0.015989 -0.000380  ...  0.015576  0.000393  0.011444\n",
              "4  2018-01-08 00:00:00  0.002146 -0.009877  ...  0.009951 -0.004914  0.011996\n",
              "\n",
              "[5 rows x 506 columns]"
            ]
          },
          "metadata": {},
          "execution_count": 231
        }
      ]
    },
    {
      "cell_type": "code",
      "metadata": {
        "id": "OhCZD8zDDn-v"
      },
      "source": [
        "data = pd.read_csv(\"analyst_return_industry.csv\").iloc[:, 1:]\n",
        "# change to 0 and 1\n",
        "data['y'] = (data['return+1'] >= 0).astype(int)"
      ],
      "execution_count": 232,
      "outputs": []
    },
    {
      "cell_type": "code",
      "source": [
        "def bert_sentence_encoding(sentences, model):\n",
        "    # this takes a while!\n",
        "    embedded_sentences = model.encode(sentences)\n",
        "    assert len(embedded_sentences) == len(sentences)\n",
        "    \n",
        "    return embedded_sentences"
      ],
      "metadata": {
        "id": "v53dQO80xGlU"
      },
      "execution_count": 233,
      "outputs": []
    },
    {
      "cell_type": "code",
      "source": [
        "df = data[:10000].copy()\n",
        "text = df['title'].tolist()\n",
        "label = df['y'].tolist()\n",
        "bert_w2vec_text = np.array(bert_sentence_encoding(text, sentence_model))\n",
        "df['bert'] = bert_w2vec_text.tolist()\n",
        "\n",
        "stock_col_index = df.columns.tolist().index('stock')\n",
        "bert_col_index = df.columns.tolist().index('bert')\n",
        "title_col_index = df.columns.tolist().index('title')\n",
        "def get_last_n_bert(index, n=20, target_col_index=0):\n",
        "    if not isinstance(index, int):\n",
        "        index = index.name\n",
        "    if df.iloc[index - n, stock_col_index] == df.iloc[index, stock_col_index]:\n",
        "        return np.vstack(df.iloc[index - n: index, target_col_index])\n",
        "    return\n",
        "\n",
        "def get_last_n_title(index, n=20, target_col_index=0):\n",
        "    if not isinstance(index, int):\n",
        "        index = index.name\n",
        "    if df.iloc[index - n, stock_col_index] == df.iloc[index, stock_col_index]:\n",
        "        return df.iloc[index - n: index, target_col_index].tolist()\n",
        "    return  "
      ],
      "metadata": {
        "id": "KfSjj5TxXKXc"
      },
      "execution_count": 284,
      "outputs": []
    },
    {
      "cell_type": "code",
      "source": [
        "# df.to_csv('bert_result_10000.csv', index=False)"
      ],
      "metadata": {
        "id": "1l5F8te3mb-h"
      },
      "execution_count": 287,
      "outputs": []
    },
    {
      "cell_type": "code",
      "source": [
        "# !cp bert_result_10000.csv drive/MyDrive/files/"
      ],
      "metadata": {
        "id": "-5OlKC5Amoai"
      },
      "execution_count": 288,
      "outputs": []
    },
    {
      "cell_type": "code",
      "metadata": {
        "id": "ClWWYbP-Dn-w"
      },
      "source": [
        "# df['bert_last_20'] = df.apply(get_last_n_bert, args=(20, bert_col_index), axis=1)\n",
        "\n"
      ],
      "execution_count": 235,
      "outputs": []
    },
    {
      "cell_type": "code",
      "source": [
        "# df['news_last_20'] = df.apply(get_last_n_title, args=(20, title_col_index), axis=1)"
      ],
      "metadata": {
        "id": "gFtZhg38x2Fb"
      },
      "execution_count": 236,
      "outputs": []
    },
    {
      "cell_type": "code",
      "source": [
        "# df.to_csv(\"analyst_return_last_20.csv\", index=False)\n",
        "# !cp analyst_return_last_20.csv drive/MyDrive/files/"
      ],
      "metadata": {
        "id": "caBeh5M7z5mC"
      },
      "execution_count": null,
      "outputs": []
    },
    {
      "cell_type": "code",
      "source": [
        "df"
      ],
      "metadata": {
        "colab": {
          "base_uri": "https://localhost:8080/",
          "height": 419
        },
        "id": "ooYQovesx7Ur",
        "outputId": "c516f0d2-2841-4f97-96f6-734dc36c3c42"
      },
      "execution_count": 237,
      "outputs": [
        {
          "output_type": "execute_result",
          "data": {
            "text/html": [
              "<div>\n",
              "<style scoped>\n",
              "    .dataframe tbody tr th:only-of-type {\n",
              "        vertical-align: middle;\n",
              "    }\n",
              "\n",
              "    .dataframe tbody tr th {\n",
              "        vertical-align: top;\n",
              "    }\n",
              "\n",
              "    .dataframe thead th {\n",
              "        text-align: right;\n",
              "    }\n",
              "</style>\n",
              "<table border=\"1\" class=\"dataframe\">\n",
              "  <thead>\n",
              "    <tr style=\"text-align: right;\">\n",
              "      <th></th>\n",
              "      <th>title</th>\n",
              "      <th>date</th>\n",
              "      <th>stock</th>\n",
              "      <th>Date</th>\n",
              "      <th>Date+1</th>\n",
              "      <th>Date+3</th>\n",
              "      <th>Date+5</th>\n",
              "      <th>return+1</th>\n",
              "      <th>return+3</th>\n",
              "      <th>return+5</th>\n",
              "      <th>y</th>\n",
              "      <th>ticker</th>\n",
              "      <th>industry</th>\n",
              "      <th>bert</th>\n",
              "      <th>bert_last_20</th>\n",
              "      <th>news_last_20</th>\n",
              "    </tr>\n",
              "  </thead>\n",
              "  <tbody>\n",
              "    <tr>\n",
              "      <th>0</th>\n",
              "      <td>Stocks That Hit 52-Week Highs On Friday</td>\n",
              "      <td>2020-06-05 10:30:00</td>\n",
              "      <td>A</td>\n",
              "      <td>2020-06-05</td>\n",
              "      <td>2020-06-08</td>\n",
              "      <td>2020-06-10</td>\n",
              "      <td>2020-06-12</td>\n",
              "      <td>-0.000996</td>\n",
              "      <td>0.000446</td>\n",
              "      <td>0.012701</td>\n",
              "      <td>0</td>\n",
              "      <td>A</td>\n",
              "      <td>Healthcare</td>\n",
              "      <td>[0.5953495502471924, -0.8153849244117737, -0.4...</td>\n",
              "      <td>None</td>\n",
              "      <td>None</td>\n",
              "    </tr>\n",
              "    <tr>\n",
              "      <th>1</th>\n",
              "      <td>Stocks That Hit 52-Week Highs On Wednesday</td>\n",
              "      <td>2020-06-03 10:45:00</td>\n",
              "      <td>A</td>\n",
              "      <td>2020-06-03</td>\n",
              "      <td>2020-06-04</td>\n",
              "      <td>2020-06-08</td>\n",
              "      <td>2020-06-10</td>\n",
              "      <td>0.007183</td>\n",
              "      <td>-0.000996</td>\n",
              "      <td>0.000446</td>\n",
              "      <td>1</td>\n",
              "      <td>A</td>\n",
              "      <td>Healthcare</td>\n",
              "      <td>[0.4019782245159149, -0.7736400961875916, -0.4...</td>\n",
              "      <td>None</td>\n",
              "      <td>None</td>\n",
              "    </tr>\n",
              "    <tr>\n",
              "      <th>2</th>\n",
              "      <td>71 Biggest Movers From Friday</td>\n",
              "      <td>2020-05-26 04:30:00</td>\n",
              "      <td>A</td>\n",
              "      <td>2020-05-26</td>\n",
              "      <td>2020-05-27</td>\n",
              "      <td>2020-05-29</td>\n",
              "      <td>2020-06-02</td>\n",
              "      <td>0.000581</td>\n",
              "      <td>0.016726</td>\n",
              "      <td>0.004227</td>\n",
              "      <td>1</td>\n",
              "      <td>A</td>\n",
              "      <td>Healthcare</td>\n",
              "      <td>[0.4063955843448639, 0.2997133731842041, 1.119...</td>\n",
              "      <td>None</td>\n",
              "      <td>None</td>\n",
              "    </tr>\n",
              "    <tr>\n",
              "      <th>3</th>\n",
              "      <td>46 Stocks Moving In Friday's Mid-Day Session</td>\n",
              "      <td>2020-05-22 12:45:00</td>\n",
              "      <td>A</td>\n",
              "      <td>2020-05-22</td>\n",
              "      <td>2020-05-26</td>\n",
              "      <td>2020-05-28</td>\n",
              "      <td>2020-06-01</td>\n",
              "      <td>0.013532</td>\n",
              "      <td>0.005918</td>\n",
              "      <td>0.020082</td>\n",
              "      <td>1</td>\n",
              "      <td>A</td>\n",
              "      <td>Healthcare</td>\n",
              "      <td>[-0.044870033860206604, -0.5282055139541626, 0...</td>\n",
              "      <td>None</td>\n",
              "      <td>None</td>\n",
              "    </tr>\n",
              "    <tr>\n",
              "      <th>4</th>\n",
              "      <td>B of A Securities Maintains Neutral on Agilent...</td>\n",
              "      <td>2020-05-22 11:38:00</td>\n",
              "      <td>A</td>\n",
              "      <td>2020-05-22</td>\n",
              "      <td>2020-05-26</td>\n",
              "      <td>2020-05-28</td>\n",
              "      <td>2020-06-01</td>\n",
              "      <td>0.013532</td>\n",
              "      <td>0.005918</td>\n",
              "      <td>0.020082</td>\n",
              "      <td>1</td>\n",
              "      <td>A</td>\n",
              "      <td>Healthcare</td>\n",
              "      <td>[-0.0015827291645109653, 0.20506562292575836, ...</td>\n",
              "      <td>None</td>\n",
              "      <td>None</td>\n",
              "    </tr>\n",
              "    <tr>\n",
              "      <th>...</th>\n",
              "      <td>...</td>\n",
              "      <td>...</td>\n",
              "      <td>...</td>\n",
              "      <td>...</td>\n",
              "      <td>...</td>\n",
              "      <td>...</td>\n",
              "      <td>...</td>\n",
              "      <td>...</td>\n",
              "      <td>...</td>\n",
              "      <td>...</td>\n",
              "      <td>...</td>\n",
              "      <td>...</td>\n",
              "      <td>...</td>\n",
              "      <td>...</td>\n",
              "      <td>...</td>\n",
              "      <td>...</td>\n",
              "    </tr>\n",
              "    <tr>\n",
              "      <th>9995</th>\n",
              "      <td>Morgan Stanley Maintains Equal-Weight on Avery...</td>\n",
              "      <td>2020-03-18 08:52:00</td>\n",
              "      <td>AVY</td>\n",
              "      <td>2020-03-18</td>\n",
              "      <td>2020-03-19</td>\n",
              "      <td>2020-03-23</td>\n",
              "      <td>2020-03-25</td>\n",
              "      <td>-0.022852</td>\n",
              "      <td>-0.132709</td>\n",
              "      <td>0.010335</td>\n",
              "      <td>0</td>\n",
              "      <td>AVY</td>\n",
              "      <td>Industrials</td>\n",
              "      <td>[-1.3821346759796143, 0.31027260422706604, 0.2...</td>\n",
              "      <td>None</td>\n",
              "      <td>None</td>\n",
              "    </tr>\n",
              "    <tr>\n",
              "      <th>9996</th>\n",
              "      <td>Citigroup Maintains Neutral on Avery Dennison,...</td>\n",
              "      <td>2020-03-11 07:44:00</td>\n",
              "      <td>AVY</td>\n",
              "      <td>2020-03-11</td>\n",
              "      <td>2020-03-12</td>\n",
              "      <td>2020-03-16</td>\n",
              "      <td>2020-03-18</td>\n",
              "      <td>-0.060573</td>\n",
              "      <td>-0.085501</td>\n",
              "      <td>-0.011714</td>\n",
              "      <td>0</td>\n",
              "      <td>AVY</td>\n",
              "      <td>Industrials</td>\n",
              "      <td>[-0.3668907582759857, 0.44470107555389404, -0....</td>\n",
              "      <td>None</td>\n",
              "      <td>None</td>\n",
              "    </tr>\n",
              "    <tr>\n",
              "      <th>9997</th>\n",
              "      <td>UBS Maintains Buy on Avery Dennison, Lowers Pr...</td>\n",
              "      <td>2020-03-10 07:09:00</td>\n",
              "      <td>AVY</td>\n",
              "      <td>2020-03-10</td>\n",
              "      <td>2020-03-11</td>\n",
              "      <td>2020-03-13</td>\n",
              "      <td>2020-03-17</td>\n",
              "      <td>-0.078265</td>\n",
              "      <td>0.017847</td>\n",
              "      <td>0.099990</td>\n",
              "      <td>0</td>\n",
              "      <td>AVY</td>\n",
              "      <td>Industrials</td>\n",
              "      <td>[-1.3419853448867798, 0.6894689202308655, 0.07...</td>\n",
              "      <td>None</td>\n",
              "      <td>None</td>\n",
              "    </tr>\n",
              "    <tr>\n",
              "      <th>9998</th>\n",
              "      <td>Shares of several industrial and shipping comp...</td>\n",
              "      <td>2020-02-24 08:42:00</td>\n",
              "      <td>AVY</td>\n",
              "      <td>2020-02-24</td>\n",
              "      <td>2020-02-25</td>\n",
              "      <td>2020-02-27</td>\n",
              "      <td>2020-03-02</td>\n",
              "      <td>-0.046378</td>\n",
              "      <td>-0.039636</td>\n",
              "      <td>0.048214</td>\n",
              "      <td>0</td>\n",
              "      <td>AVY</td>\n",
              "      <td>Industrials</td>\n",
              "      <td>[0.060678571462631226, -0.23091216385364532, 0...</td>\n",
              "      <td>None</td>\n",
              "      <td>None</td>\n",
              "    </tr>\n",
              "    <tr>\n",
              "      <th>9999</th>\n",
              "      <td>Avery Dennison Shares Spike To Session High, U...</td>\n",
              "      <td>2020-02-12 15:44:00</td>\n",
              "      <td>AVY</td>\n",
              "      <td>2020-02-12</td>\n",
              "      <td>2020-02-13</td>\n",
              "      <td>2020-02-18</td>\n",
              "      <td>2020-02-20</td>\n",
              "      <td>-0.011943</td>\n",
              "      <td>-0.015565</td>\n",
              "      <td>0.000000</td>\n",
              "      <td>0</td>\n",
              "      <td>AVY</td>\n",
              "      <td>Industrials</td>\n",
              "      <td>[-0.5364673137664795, 0.5850507020950317, 0.07...</td>\n",
              "      <td>None</td>\n",
              "      <td>None</td>\n",
              "    </tr>\n",
              "  </tbody>\n",
              "</table>\n",
              "<p>10000 rows × 16 columns</p>\n",
              "</div>"
            ],
            "text/plain": [
              "                                                  title  ... news_last_20\n",
              "0               Stocks That Hit 52-Week Highs On Friday  ...         None\n",
              "1            Stocks That Hit 52-Week Highs On Wednesday  ...         None\n",
              "2                         71 Biggest Movers From Friday  ...         None\n",
              "3          46 Stocks Moving In Friday's Mid-Day Session  ...         None\n",
              "4     B of A Securities Maintains Neutral on Agilent...  ...         None\n",
              "...                                                 ...  ...          ...\n",
              "9995  Morgan Stanley Maintains Equal-Weight on Avery...  ...         None\n",
              "9996  Citigroup Maintains Neutral on Avery Dennison,...  ...         None\n",
              "9997  UBS Maintains Buy on Avery Dennison, Lowers Pr...  ...         None\n",
              "9998  Shares of several industrial and shipping comp...  ...         None\n",
              "9999  Avery Dennison Shares Spike To Session High, U...  ...         None\n",
              "\n",
              "[10000 rows x 16 columns]"
            ]
          },
          "metadata": {},
          "execution_count": 237
        }
      ]
    },
    {
      "cell_type": "code",
      "metadata": {
        "id": "biS318O6Dn-w"
      },
      "source": [
        "# from sklearn.model_selection import train_test_split\n",
        "# from sklearn.ensemble import RandomForestClassifier\n",
        "\n",
        "# df = data[data.industry == \"Healthcare\"][:50000]\n",
        "# text = df['title'].tolist()\n",
        "# label = df['y'].tolist()\n",
        "# all_labels = [0, 1]\n",
        "# print(\"All labels are: {}\".format(all_labels))\n",
        "# X_train, X_test, y_train, y_test = train_test_split(text, \n",
        "#                                                     label, \n",
        "#                                                     test_size=0.2, \n",
        "#                                                     random_state=42)\n",
        "\n",
        "# print(len(X_train))"
      ],
      "execution_count": 238,
      "outputs": []
    },
    {
      "cell_type": "code",
      "metadata": {
        "colab": {
          "base_uri": "https://localhost:8080/"
        },
        "id": "C79BXR4LDn-x",
        "outputId": "ec13dd98-5ae8-45bb-a710-71135e4d6f2b"
      },
      "source": [
        "# # re-vectorize the Xs - make sure to specify the right size for the embeddings\n",
        "# bert_w2vec_X_train = np.array(bert_sentence_encoding(X_train, sentence_model))\n",
        "# bert_w2vec_X_test = np.array(bert_sentence_encoding(X_test, sentence_model))\n",
        "# print(bert_w2vec_X_train[0].shape)"
      ],
      "execution_count": null,
      "outputs": [
        {
          "output_type": "stream",
          "name": "stdout",
          "text": [
            "(768,)\n"
          ]
        }
      ]
    },
    {
      "cell_type": "code",
      "source": [
        ""
      ],
      "metadata": {
        "id": "2Za9WipxxZca"
      },
      "execution_count": null,
      "outputs": []
    },
    {
      "cell_type": "markdown",
      "metadata": {
        "id": "LeYMI9vxDn-x"
      },
      "source": [
        "### Utils Functions"
      ]
    },
    {
      "cell_type": "code",
      "metadata": {
        "id": "g6nyieKnDn-y"
      },
      "source": [
        "from sklearn.metrics import confusion_matrix, classification_report\n",
        "\n",
        "def calculate_confusion_matrix_and_report(y_predicted, y_golden, with_plot=True):\n",
        "    # calculate confusion matrix: \n",
        "    cm = confusion_matrix(y_golden, y_predicted)\n",
        "    # build a readable report;\n",
        "    # https://scikit-learn.org/stable/modules/model_evaluation.html#classification-report\n",
        "    print('\\nClassification Report')\n",
        "    print(classification_report(y_golden, y_predicted))\n",
        "    # plot the matrix\n",
        "    if with_plot:\n",
        "        plot_confusion_matrix(cm)\n",
        "                                          \n",
        "    return\n",
        "                                          \n",
        "def plot_confusion_matrix(c_matrix):\n",
        "    plt.imshow(c_matrix, cmap=plt.cm.Blues)\n",
        "    plt.xlabel(\"Predicted labels\")\n",
        "    plt.ylabel(\"True labels\")\n",
        "    plt.xticks([], [])\n",
        "    plt.yticks([], [])\n",
        "    plt.title(\"Confusion matrix\")\n",
        "    plt.colorbar()\n",
        "    plt.show()\n",
        "    \n",
        "    return"
      ],
      "execution_count": 239,
      "outputs": []
    },
    {
      "cell_type": "code",
      "metadata": {
        "id": "3FX3UrygswJI"
      },
      "source": [
        "%matplotlib inline\n",
        "import torch\n",
        "from torch import nn \n",
        "from d2l import torch as d2l\n",
        "import torch.nn.functional as F\n",
        "\n",
        "import torch.utils.data as Data\n",
        "\n",
        "# BATCH_SIZE = 20\n",
        "\n",
        "# torch_train_dataset = Data.TensorDataset(torch.from_numpy(bert_w2vec_X_train), torch.tensor(y_train))\n",
        "# train_iter = Data.DataLoader(\n",
        "#     dataset=torch_train_dataset,\n",
        "#     batch_size=BATCH_SIZE,\n",
        "#     shuffle=True,\n",
        "#     num_workers=0,\n",
        "# )\n",
        "# torch_test_dataset = Data.TensorDataset(torch.from_numpy(bert_w2vec_X_train), torch.tensor(y_train))\n",
        "# test_iter = Data.DataLoader(\n",
        "#     dataset=torch_test_dataset,\n",
        "#     batch_size=BATCH_SIZE,\n",
        "#     shuffle=True,\n",
        "#     num_workers=0,\n",
        "# )"
      ],
      "execution_count": 240,
      "outputs": []
    },
    {
      "cell_type": "code",
      "source": [
        "# X = df[df['stock'] == 'A']['bert']\n",
        "# y = df['return+1']"
      ],
      "metadata": {
        "id": "LvJSG3071Wkm"
      },
      "execution_count": 241,
      "outputs": []
    },
    {
      "cell_type": "code",
      "source": [
        ""
      ],
      "metadata": {
        "id": "TxIZ3LEiWDNG"
      },
      "execution_count": null,
      "outputs": []
    },
    {
      "cell_type": "code",
      "source": [
        ""
      ],
      "metadata": {
        "id": "aXfQoCPFUSi2"
      },
      "execution_count": null,
      "outputs": []
    },
    {
      "cell_type": "code",
      "source": [
        "class LSTM1(nn.Module):\n",
        "    def __init__(self, num_classes, input_size, hidden_size, num_layers, seq_length):\n",
        "        super(LSTM1, self).__init__()\n",
        "        self.num_classes = num_classes #number of classes\n",
        "        self.num_layers = num_layers #number of layers\n",
        "        self.input_size = input_size #input size\n",
        "        self.hidden_size = hidden_size #hidden state\n",
        "        self.seq_length = seq_length #sequence length\n",
        "\n",
        "        self.lstm = nn.LSTM(input_size=input_size, hidden_size=hidden_size,\n",
        "                          num_layers=num_layers, batch_first=True) #lstm\n",
        "        self.fc_1 =  nn.Linear(hidden_size, 128) #fully connected 1\n",
        "        self.fc = nn.Linear(128, num_classes) #fully connected last layer\n",
        "\n",
        "        self.relu = nn.ReLU()\n",
        "    \n",
        "    def forward(self,x):\n",
        "        h_0 = Variable(torch.zeros(self.num_layers, x.size(0), self.hidden_size)) #hidden state\n",
        "        c_0 = Variable(torch.zeros(self.num_layers, x.size(0), self.hidden_size)) #internal state\n",
        "        # Propagate input through LSTM\n",
        "        output, (hn, cn) = self.lstm(x, (h_0, c_0)) #lstm with input, hidden, and internal state\n",
        "        hn = hn.view(-1, self.hidden_size) #reshaping the data for Dense layer next\n",
        "        out = self.relu(hn)\n",
        "        out = self.fc_1(out) #first Dense\n",
        "        out = self.relu(out) #relu\n",
        "        out = self.fc(out) #Final Output\n",
        "        return out"
      ],
      "metadata": {
        "id": "D8I1uefDXBa7"
      },
      "execution_count": 242,
      "outputs": []
    },
    {
      "cell_type": "code",
      "source": [
        "num_epochs = 1000 #1000 epochs\n",
        "learning_rate = 0.001 #0.001 lr\n",
        "\n",
        "input_size = 5 #number of features\n",
        "hidden_size = 2 #number of features in hidden state\n",
        "num_layers = 1 #number of stacked lstm layers\n",
        "\n",
        "num_classes = 1 #number of output classes "
      ],
      "metadata": {
        "id": "9sd5MLHZYGqK"
      },
      "execution_count": 243,
      "outputs": []
    },
    {
      "cell_type": "code",
      "source": [
        "corpus = bert_w2vec_text"
      ],
      "metadata": {
        "id": "ZeLdk6G2YMX7"
      },
      "execution_count": 244,
      "outputs": []
    },
    {
      "cell_type": "code",
      "source": [
        "corpus[2:5]"
      ],
      "metadata": {
        "colab": {
          "base_uri": "https://localhost:8080/"
        },
        "id": "Q7wL0W54br42",
        "outputId": "1864c097-8781-4559-8564-38b2b57ad1c0"
      },
      "execution_count": 245,
      "outputs": [
        {
          "output_type": "execute_result",
          "data": {
            "text/plain": [
              "array([[ 0.40639558,  0.29971337,  1.119453  , ...,  0.39965776,\n",
              "         0.1909937 , -0.8793637 ],\n",
              "       [-0.04487003, -0.5282055 ,  0.329313  , ...,  0.00561001,\n",
              "        -0.03012734, -0.63683784],\n",
              "       [-0.00158273,  0.20506562,  0.02600296, ...,  0.7005896 ,\n",
              "        -0.12340715, -0.9611118 ]], dtype=float32)"
            ]
          },
          "metadata": {},
          "execution_count": 245
        }
      ]
    },
    {
      "cell_type": "code",
      "source": [
        "target = df['y']"
      ],
      "metadata": {
        "id": "BLkQj7cIdDZD"
      },
      "execution_count": 253,
      "outputs": []
    },
    {
      "cell_type": "code",
      "source": [
        "df.groupby('stock').tail(20)"
      ],
      "metadata": {
        "colab": {
          "base_uri": "https://localhost:8080/",
          "height": 419
        },
        "id": "u7Tg14DpvC7T",
        "outputId": "6e423d85-05d3-409b-f1fe-c334ad25a778"
      },
      "execution_count": 311,
      "outputs": [
        {
          "output_type": "execute_result",
          "data": {
            "text/html": [
              "<div>\n",
              "<style scoped>\n",
              "    .dataframe tbody tr th:only-of-type {\n",
              "        vertical-align: middle;\n",
              "    }\n",
              "\n",
              "    .dataframe tbody tr th {\n",
              "        vertical-align: top;\n",
              "    }\n",
              "\n",
              "    .dataframe thead th {\n",
              "        text-align: right;\n",
              "    }\n",
              "</style>\n",
              "<table border=\"1\" class=\"dataframe\">\n",
              "  <thead>\n",
              "    <tr style=\"text-align: right;\">\n",
              "      <th></th>\n",
              "      <th>title</th>\n",
              "      <th>date</th>\n",
              "      <th>stock</th>\n",
              "      <th>Date</th>\n",
              "      <th>Date+1</th>\n",
              "      <th>Date+3</th>\n",
              "      <th>Date+5</th>\n",
              "      <th>return+1</th>\n",
              "      <th>return+3</th>\n",
              "      <th>return+5</th>\n",
              "      <th>y</th>\n",
              "      <th>ticker</th>\n",
              "      <th>industry</th>\n",
              "      <th>bert</th>\n",
              "    </tr>\n",
              "  </thead>\n",
              "  <tbody>\n",
              "    <tr>\n",
              "      <th>226</th>\n",
              "      <td>Evercore ISI Group Initiates Coverage On Agile...</td>\n",
              "      <td>2018-01-04 08:41:00</td>\n",
              "      <td>A</td>\n",
              "      <td>2018-01-04</td>\n",
              "      <td>2018-01-05</td>\n",
              "      <td>2018-01-09</td>\n",
              "      <td>2018-01-11</td>\n",
              "      <td>0.015989</td>\n",
              "      <td>0.024554</td>\n",
              "      <td>0.000141</td>\n",
              "      <td>1</td>\n",
              "      <td>A</td>\n",
              "      <td>Healthcare</td>\n",
              "      <td>[0.10360626131296158, 0.37266775965690613, 1.0...</td>\n",
              "    </tr>\n",
              "    <tr>\n",
              "      <th>227</th>\n",
              "      <td>Goldman Sachs Healthcare CEOs Unscripted Confe...</td>\n",
              "      <td>2018-01-04 06:54:00</td>\n",
              "      <td>A</td>\n",
              "      <td>2018-01-04</td>\n",
              "      <td>2018-01-05</td>\n",
              "      <td>2018-01-09</td>\n",
              "      <td>2018-01-11</td>\n",
              "      <td>0.015989</td>\n",
              "      <td>0.024554</td>\n",
              "      <td>0.000141</td>\n",
              "      <td>1</td>\n",
              "      <td>A</td>\n",
              "      <td>Healthcare</td>\n",
              "      <td>[0.06882817298173904, 0.3872598707675934, 0.49...</td>\n",
              "    </tr>\n",
              "    <tr>\n",
              "      <th>471</th>\n",
              "      <td>10 Stocks To Watch For February 21, 2018</td>\n",
              "      <td>2018-02-21 04:26:00</td>\n",
              "      <td>AAP</td>\n",
              "      <td>2018-02-21</td>\n",
              "      <td>2018-02-22</td>\n",
              "      <td>2018-02-26</td>\n",
              "      <td>2018-02-28</td>\n",
              "      <td>-0.030790</td>\n",
              "      <td>-0.012638</td>\n",
              "      <td>0.040528</td>\n",
              "      <td>0</td>\n",
              "      <td>AAP</td>\n",
              "      <td>Consumer Cyclical</td>\n",
              "      <td>[0.24185048043727875, 0.3554683029651642, -0.0...</td>\n",
              "    </tr>\n",
              "    <tr>\n",
              "      <th>472</th>\n",
              "      <td>Earnings Scheduled For February 21, 2018</td>\n",
              "      <td>2018-02-21 04:00:00</td>\n",
              "      <td>AAP</td>\n",
              "      <td>2018-02-21</td>\n",
              "      <td>2018-02-22</td>\n",
              "      <td>2018-02-26</td>\n",
              "      <td>2018-02-28</td>\n",
              "      <td>-0.030790</td>\n",
              "      <td>-0.012638</td>\n",
              "      <td>0.040528</td>\n",
              "      <td>0</td>\n",
              "      <td>AAP</td>\n",
              "      <td>Consumer Cyclical</td>\n",
              "      <td>[0.48564666509628296, 0.4989309310913086, 0.26...</td>\n",
              "    </tr>\n",
              "    <tr>\n",
              "      <th>940</th>\n",
              "      <td>Investor Movement Index Summary: February 2020</td>\n",
              "      <td>2020-03-09 13:57:00</td>\n",
              "      <td>AAPL</td>\n",
              "      <td>2020-03-09</td>\n",
              "      <td>2020-03-10</td>\n",
              "      <td>2020-03-12</td>\n",
              "      <td>2020-03-16</td>\n",
              "      <td>0.072022</td>\n",
              "      <td>-0.098755</td>\n",
              "      <td>-0.128647</td>\n",
              "      <td>1</td>\n",
              "      <td>AAPL</td>\n",
              "      <td>Technology</td>\n",
              "      <td>[-0.17972013354301453, 0.13271191716194153, 0....</td>\n",
              "    </tr>\n",
              "    <tr>\n",
              "      <th>...</th>\n",
              "      <td>...</td>\n",
              "      <td>...</td>\n",
              "      <td>...</td>\n",
              "      <td>...</td>\n",
              "      <td>...</td>\n",
              "      <td>...</td>\n",
              "      <td>...</td>\n",
              "      <td>...</td>\n",
              "      <td>...</td>\n",
              "      <td>...</td>\n",
              "      <td>...</td>\n",
              "      <td>...</td>\n",
              "      <td>...</td>\n",
              "      <td>...</td>\n",
              "    </tr>\n",
              "    <tr>\n",
              "      <th>9248</th>\n",
              "      <td>AvalonBay Communities Reports Q4 FFO $2.18 vs ...</td>\n",
              "      <td>2018-01-31 16:21:00</td>\n",
              "      <td>AVB</td>\n",
              "      <td>2018-01-31</td>\n",
              "      <td>2018-02-01</td>\n",
              "      <td>2018-02-05</td>\n",
              "      <td>2018-02-07</td>\n",
              "      <td>-0.036913</td>\n",
              "      <td>-0.030129</td>\n",
              "      <td>-0.012293</td>\n",
              "      <td>0</td>\n",
              "      <td>AVB</td>\n",
              "      <td>Real Estate</td>\n",
              "      <td>[0.17099061608314514, 0.09733965247869492, 0.8...</td>\n",
              "    </tr>\n",
              "    <tr>\n",
              "      <th>9986</th>\n",
              "      <td>KeyBanc: Apple Supplier Cirrus Logic Has 'Limi...</td>\n",
              "      <td>2018-01-08 09:26:00</td>\n",
              "      <td>AVGO</td>\n",
              "      <td>2018-01-08</td>\n",
              "      <td>2018-01-09</td>\n",
              "      <td>2018-01-11</td>\n",
              "      <td>2018-01-16</td>\n",
              "      <td>-0.013847</td>\n",
              "      <td>0.002549</td>\n",
              "      <td>-0.003935</td>\n",
              "      <td>0</td>\n",
              "      <td>AVGO</td>\n",
              "      <td>Technology</td>\n",
              "      <td>[-0.956243097782135, 0.537670910358429, -0.437...</td>\n",
              "    </tr>\n",
              "    <tr>\n",
              "      <th>9987</th>\n",
              "      <td>Broadcom Sends Letter To Qualcomm Stockholders...</td>\n",
              "      <td>2018-01-05 16:26:00</td>\n",
              "      <td>AVGO</td>\n",
              "      <td>2018-01-05</td>\n",
              "      <td>2018-01-08</td>\n",
              "      <td>2018-01-10</td>\n",
              "      <td>2018-01-12</td>\n",
              "      <td>0.002393</td>\n",
              "      <td>-0.021117</td>\n",
              "      <td>0.002998</td>\n",
              "      <td>1</td>\n",
              "      <td>AVGO</td>\n",
              "      <td>Technology</td>\n",
              "      <td>[0.42810913920402527, 0.5380608439445496, 0.38...</td>\n",
              "    </tr>\n",
              "    <tr>\n",
              "      <th>9998</th>\n",
              "      <td>Shares of several industrial and shipping comp...</td>\n",
              "      <td>2020-02-24 08:42:00</td>\n",
              "      <td>AVY</td>\n",
              "      <td>2020-02-24</td>\n",
              "      <td>2020-02-25</td>\n",
              "      <td>2020-02-27</td>\n",
              "      <td>2020-03-02</td>\n",
              "      <td>-0.046378</td>\n",
              "      <td>-0.039636</td>\n",
              "      <td>0.048214</td>\n",
              "      <td>0</td>\n",
              "      <td>AVY</td>\n",
              "      <td>Industrials</td>\n",
              "      <td>[0.060678571462631226, -0.23091216385364532, 0...</td>\n",
              "    </tr>\n",
              "    <tr>\n",
              "      <th>9999</th>\n",
              "      <td>Avery Dennison Shares Spike To Session High, U...</td>\n",
              "      <td>2020-02-12 15:44:00</td>\n",
              "      <td>AVY</td>\n",
              "      <td>2020-02-12</td>\n",
              "      <td>2020-02-13</td>\n",
              "      <td>2020-02-18</td>\n",
              "      <td>2020-02-20</td>\n",
              "      <td>-0.011943</td>\n",
              "      <td>-0.015565</td>\n",
              "      <td>0.000000</td>\n",
              "      <td>0</td>\n",
              "      <td>AVY</td>\n",
              "      <td>Industrials</td>\n",
              "      <td>[-0.5364673137664795, 0.5850507020950317, 0.07...</td>\n",
              "    </tr>\n",
              "  </tbody>\n",
              "</table>\n",
              "<p>84 rows × 14 columns</p>\n",
              "</div>"
            ],
            "text/plain": [
              "                                                  title  ...                                               bert\n",
              "226   Evercore ISI Group Initiates Coverage On Agile...  ...  [0.10360626131296158, 0.37266775965690613, 1.0...\n",
              "227   Goldman Sachs Healthcare CEOs Unscripted Confe...  ...  [0.06882817298173904, 0.3872598707675934, 0.49...\n",
              "471            10 Stocks To Watch For February 21, 2018  ...  [0.24185048043727875, 0.3554683029651642, -0.0...\n",
              "472            Earnings Scheduled For February 21, 2018  ...  [0.48564666509628296, 0.4989309310913086, 0.26...\n",
              "940      Investor Movement Index Summary: February 2020  ...  [-0.17972013354301453, 0.13271191716194153, 0....\n",
              "...                                                 ...  ...                                                ...\n",
              "9248  AvalonBay Communities Reports Q4 FFO $2.18 vs ...  ...  [0.17099061608314514, 0.09733965247869492, 0.8...\n",
              "9986  KeyBanc: Apple Supplier Cirrus Logic Has 'Limi...  ...  [-0.956243097782135, 0.537670910358429, -0.437...\n",
              "9987  Broadcom Sends Letter To Qualcomm Stockholders...  ...  [0.42810913920402527, 0.5380608439445496, 0.38...\n",
              "9998  Shares of several industrial and shipping comp...  ...  [0.060678571462631226, -0.23091216385364532, 0...\n",
              "9999  Avery Dennison Shares Spike To Session High, U...  ...  [-0.5364673137664795, 0.5850507020950317, 0.07...\n",
              "\n",
              "[84 rows x 14 columns]"
            ]
          },
          "metadata": {},
          "execution_count": 311
        }
      ]
    },
    {
      "cell_type": "code",
      "source": [
        "stock_length = df.groupby('stock')['title'].count().cumsum().to_frame()\n",
        "stock_lengths = pd.concat([stock_length.shift(1).fillna(0).astype(int), stock_length-40, stock_length-20, stock_length], axis=1)\n",
        "stock_lengths.columns = ['train_start', 'train_end', 'test_start', 'test_end']\n",
        "stock_lengths"
      ],
      "metadata": {
        "colab": {
          "base_uri": "https://localhost:8080/",
          "height": 1000
        },
        "id": "saILHG2xqlP9",
        "outputId": "5a4c8c19-7183-4440-fdfb-4a065c2dec6b"
      },
      "execution_count": 308,
      "outputs": [
        {
          "output_type": "execute_result",
          "data": {
            "text/html": [
              "<div>\n",
              "<style scoped>\n",
              "    .dataframe tbody tr th:only-of-type {\n",
              "        vertical-align: middle;\n",
              "    }\n",
              "\n",
              "    .dataframe tbody tr th {\n",
              "        vertical-align: top;\n",
              "    }\n",
              "\n",
              "    .dataframe thead th {\n",
              "        text-align: right;\n",
              "    }\n",
              "</style>\n",
              "<table border=\"1\" class=\"dataframe\">\n",
              "  <thead>\n",
              "    <tr style=\"text-align: right;\">\n",
              "      <th></th>\n",
              "      <th>train_start</th>\n",
              "      <th>train_end</th>\n",
              "      <th>test_start</th>\n",
              "      <th>test_end</th>\n",
              "    </tr>\n",
              "    <tr>\n",
              "      <th>stock</th>\n",
              "      <th></th>\n",
              "      <th></th>\n",
              "      <th></th>\n",
              "      <th></th>\n",
              "    </tr>\n",
              "  </thead>\n",
              "  <tbody>\n",
              "    <tr>\n",
              "      <th>A</th>\n",
              "      <td>0</td>\n",
              "      <td>188</td>\n",
              "      <td>208</td>\n",
              "      <td>228</td>\n",
              "    </tr>\n",
              "    <tr>\n",
              "      <th>AAP</th>\n",
              "      <td>228</td>\n",
              "      <td>433</td>\n",
              "      <td>453</td>\n",
              "      <td>473</td>\n",
              "    </tr>\n",
              "    <tr>\n",
              "      <th>AAPL</th>\n",
              "      <td>473</td>\n",
              "      <td>902</td>\n",
              "      <td>922</td>\n",
              "      <td>942</td>\n",
              "    </tr>\n",
              "    <tr>\n",
              "      <th>ABBV</th>\n",
              "      <td>942</td>\n",
              "      <td>1232</td>\n",
              "      <td>1252</td>\n",
              "      <td>1272</td>\n",
              "    </tr>\n",
              "    <tr>\n",
              "      <th>ABC</th>\n",
              "      <td>1272</td>\n",
              "      <td>1437</td>\n",
              "      <td>1457</td>\n",
              "      <td>1477</td>\n",
              "    </tr>\n",
              "    <tr>\n",
              "      <th>ABMD</th>\n",
              "      <td>1477</td>\n",
              "      <td>1507</td>\n",
              "      <td>1527</td>\n",
              "      <td>1547</td>\n",
              "    </tr>\n",
              "    <tr>\n",
              "      <th>ACN</th>\n",
              "      <td>1547</td>\n",
              "      <td>1821</td>\n",
              "      <td>1841</td>\n",
              "      <td>1861</td>\n",
              "    </tr>\n",
              "    <tr>\n",
              "      <th>ADBE</th>\n",
              "      <td>1861</td>\n",
              "      <td>2342</td>\n",
              "      <td>2362</td>\n",
              "      <td>2382</td>\n",
              "    </tr>\n",
              "    <tr>\n",
              "      <th>ADI</th>\n",
              "      <td>2382</td>\n",
              "      <td>2641</td>\n",
              "      <td>2661</td>\n",
              "      <td>2681</td>\n",
              "    </tr>\n",
              "    <tr>\n",
              "      <th>ADM</th>\n",
              "      <td>2681</td>\n",
              "      <td>2829</td>\n",
              "      <td>2849</td>\n",
              "      <td>2869</td>\n",
              "    </tr>\n",
              "    <tr>\n",
              "      <th>ADP</th>\n",
              "      <td>2869</td>\n",
              "      <td>3053</td>\n",
              "      <td>3073</td>\n",
              "      <td>3093</td>\n",
              "    </tr>\n",
              "    <tr>\n",
              "      <th>ADSK</th>\n",
              "      <td>3093</td>\n",
              "      <td>3409</td>\n",
              "      <td>3429</td>\n",
              "      <td>3449</td>\n",
              "    </tr>\n",
              "    <tr>\n",
              "      <th>AEE</th>\n",
              "      <td>3449</td>\n",
              "      <td>3532</td>\n",
              "      <td>3552</td>\n",
              "      <td>3572</td>\n",
              "    </tr>\n",
              "    <tr>\n",
              "      <th>AES</th>\n",
              "      <td>3572</td>\n",
              "      <td>3669</td>\n",
              "      <td>3689</td>\n",
              "      <td>3709</td>\n",
              "    </tr>\n",
              "    <tr>\n",
              "      <th>AFL</th>\n",
              "      <td>3709</td>\n",
              "      <td>3840</td>\n",
              "      <td>3860</td>\n",
              "      <td>3880</td>\n",
              "    </tr>\n",
              "    <tr>\n",
              "      <th>AIG</th>\n",
              "      <td>3880</td>\n",
              "      <td>4097</td>\n",
              "      <td>4117</td>\n",
              "      <td>4137</td>\n",
              "    </tr>\n",
              "    <tr>\n",
              "      <th>AIZ</th>\n",
              "      <td>4137</td>\n",
              "      <td>4186</td>\n",
              "      <td>4206</td>\n",
              "      <td>4226</td>\n",
              "    </tr>\n",
              "    <tr>\n",
              "      <th>AJG</th>\n",
              "      <td>4226</td>\n",
              "      <td>4379</td>\n",
              "      <td>4399</td>\n",
              "      <td>4419</td>\n",
              "    </tr>\n",
              "    <tr>\n",
              "      <th>AKAM</th>\n",
              "      <td>4419</td>\n",
              "      <td>4469</td>\n",
              "      <td>4489</td>\n",
              "      <td>4509</td>\n",
              "    </tr>\n",
              "    <tr>\n",
              "      <th>ALB</th>\n",
              "      <td>4509</td>\n",
              "      <td>4738</td>\n",
              "      <td>4758</td>\n",
              "      <td>4778</td>\n",
              "    </tr>\n",
              "    <tr>\n",
              "      <th>ALGN</th>\n",
              "      <td>4778</td>\n",
              "      <td>4980</td>\n",
              "      <td>5000</td>\n",
              "      <td>5020</td>\n",
              "    </tr>\n",
              "    <tr>\n",
              "      <th>ALK</th>\n",
              "      <td>5020</td>\n",
              "      <td>5338</td>\n",
              "      <td>5358</td>\n",
              "      <td>5378</td>\n",
              "    </tr>\n",
              "    <tr>\n",
              "      <th>ALL</th>\n",
              "      <td>5378</td>\n",
              "      <td>5529</td>\n",
              "      <td>5549</td>\n",
              "      <td>5569</td>\n",
              "    </tr>\n",
              "    <tr>\n",
              "      <th>ALLE</th>\n",
              "      <td>5569</td>\n",
              "      <td>5628</td>\n",
              "      <td>5648</td>\n",
              "      <td>5668</td>\n",
              "    </tr>\n",
              "    <tr>\n",
              "      <th>AMAT</th>\n",
              "      <td>5668</td>\n",
              "      <td>6125</td>\n",
              "      <td>6145</td>\n",
              "      <td>6165</td>\n",
              "    </tr>\n",
              "    <tr>\n",
              "      <th>AMD</th>\n",
              "      <td>6165</td>\n",
              "      <td>6375</td>\n",
              "      <td>6395</td>\n",
              "      <td>6415</td>\n",
              "    </tr>\n",
              "    <tr>\n",
              "      <th>AME</th>\n",
              "      <td>6415</td>\n",
              "      <td>6503</td>\n",
              "      <td>6523</td>\n",
              "      <td>6543</td>\n",
              "    </tr>\n",
              "    <tr>\n",
              "      <th>AMGN</th>\n",
              "      <td>6543</td>\n",
              "      <td>6653</td>\n",
              "      <td>6673</td>\n",
              "      <td>6693</td>\n",
              "    </tr>\n",
              "    <tr>\n",
              "      <th>AMP</th>\n",
              "      <td>6693</td>\n",
              "      <td>6796</td>\n",
              "      <td>6816</td>\n",
              "      <td>6836</td>\n",
              "    </tr>\n",
              "    <tr>\n",
              "      <th>AMT</th>\n",
              "      <td>6836</td>\n",
              "      <td>6961</td>\n",
              "      <td>6981</td>\n",
              "      <td>7001</td>\n",
              "    </tr>\n",
              "    <tr>\n",
              "      <th>AMZN</th>\n",
              "      <td>7001</td>\n",
              "      <td>7291</td>\n",
              "      <td>7311</td>\n",
              "      <td>7331</td>\n",
              "    </tr>\n",
              "    <tr>\n",
              "      <th>ANET</th>\n",
              "      <td>7331</td>\n",
              "      <td>7553</td>\n",
              "      <td>7573</td>\n",
              "      <td>7593</td>\n",
              "    </tr>\n",
              "    <tr>\n",
              "      <th>ANSS</th>\n",
              "      <td>7593</td>\n",
              "      <td>7583</td>\n",
              "      <td>7603</td>\n",
              "      <td>7623</td>\n",
              "    </tr>\n",
              "    <tr>\n",
              "      <th>ANTM</th>\n",
              "      <td>7623</td>\n",
              "      <td>7884</td>\n",
              "      <td>7904</td>\n",
              "      <td>7924</td>\n",
              "    </tr>\n",
              "    <tr>\n",
              "      <th>AON</th>\n",
              "      <td>7924</td>\n",
              "      <td>8038</td>\n",
              "      <td>8058</td>\n",
              "      <td>8078</td>\n",
              "    </tr>\n",
              "    <tr>\n",
              "      <th>AOS</th>\n",
              "      <td>8078</td>\n",
              "      <td>8145</td>\n",
              "      <td>8165</td>\n",
              "      <td>8185</td>\n",
              "    </tr>\n",
              "    <tr>\n",
              "      <th>APH</th>\n",
              "      <td>8185</td>\n",
              "      <td>8266</td>\n",
              "      <td>8286</td>\n",
              "      <td>8306</td>\n",
              "    </tr>\n",
              "    <tr>\n",
              "      <th>ARE</th>\n",
              "      <td>8306</td>\n",
              "      <td>8349</td>\n",
              "      <td>8369</td>\n",
              "      <td>8389</td>\n",
              "    </tr>\n",
              "    <tr>\n",
              "      <th>ATVI</th>\n",
              "      <td>8389</td>\n",
              "      <td>9083</td>\n",
              "      <td>9103</td>\n",
              "      <td>9123</td>\n",
              "    </tr>\n",
              "    <tr>\n",
              "      <th>AVB</th>\n",
              "      <td>9123</td>\n",
              "      <td>9209</td>\n",
              "      <td>9229</td>\n",
              "      <td>9249</td>\n",
              "    </tr>\n",
              "    <tr>\n",
              "      <th>AVGO</th>\n",
              "      <td>9249</td>\n",
              "      <td>9948</td>\n",
              "      <td>9968</td>\n",
              "      <td>9988</td>\n",
              "    </tr>\n",
              "    <tr>\n",
              "      <th>AVY</th>\n",
              "      <td>9988</td>\n",
              "      <td>9960</td>\n",
              "      <td>9980</td>\n",
              "      <td>10000</td>\n",
              "    </tr>\n",
              "  </tbody>\n",
              "</table>\n",
              "</div>"
            ],
            "text/plain": [
              "       train_start  train_end  test_start  test_end\n",
              "stock                                              \n",
              "A                0        188         208       228\n",
              "AAP            228        433         453       473\n",
              "AAPL           473        902         922       942\n",
              "ABBV           942       1232        1252      1272\n",
              "ABC           1272       1437        1457      1477\n",
              "ABMD          1477       1507        1527      1547\n",
              "ACN           1547       1821        1841      1861\n",
              "ADBE          1861       2342        2362      2382\n",
              "ADI           2382       2641        2661      2681\n",
              "ADM           2681       2829        2849      2869\n",
              "ADP           2869       3053        3073      3093\n",
              "ADSK          3093       3409        3429      3449\n",
              "AEE           3449       3532        3552      3572\n",
              "AES           3572       3669        3689      3709\n",
              "AFL           3709       3840        3860      3880\n",
              "AIG           3880       4097        4117      4137\n",
              "AIZ           4137       4186        4206      4226\n",
              "AJG           4226       4379        4399      4419\n",
              "AKAM          4419       4469        4489      4509\n",
              "ALB           4509       4738        4758      4778\n",
              "ALGN          4778       4980        5000      5020\n",
              "ALK           5020       5338        5358      5378\n",
              "ALL           5378       5529        5549      5569\n",
              "ALLE          5569       5628        5648      5668\n",
              "AMAT          5668       6125        6145      6165\n",
              "AMD           6165       6375        6395      6415\n",
              "AME           6415       6503        6523      6543\n",
              "AMGN          6543       6653        6673      6693\n",
              "AMP           6693       6796        6816      6836\n",
              "AMT           6836       6961        6981      7001\n",
              "AMZN          7001       7291        7311      7331\n",
              "ANET          7331       7553        7573      7593\n",
              "ANSS          7593       7583        7603      7623\n",
              "ANTM          7623       7884        7904      7924\n",
              "AON           7924       8038        8058      8078\n",
              "AOS           8078       8145        8165      8185\n",
              "APH           8185       8266        8286      8306\n",
              "ARE           8306       8349        8369      8389\n",
              "ATVI          8389       9083        9103      9123\n",
              "AVB           9123       9209        9229      9249\n",
              "AVGO          9249       9948        9968      9988\n",
              "AVY           9988       9960        9980     10000"
            ]
          },
          "metadata": {},
          "execution_count": 308
        }
      ]
    },
    {
      "cell_type": "code",
      "source": [
        "# ((stock_lengths['train_start'] <= 3095) & (stock_lengths['train_end'] > 3095)).sum() != 1"
      ],
      "metadata": {
        "colab": {
          "base_uri": "https://localhost:8080/"
        },
        "id": "lxMAHDXKwD_N",
        "outputId": "a2c70990-173b-4241-fcda-b347de63e646"
      },
      "execution_count": 313,
      "outputs": [
        {
          "output_type": "execute_result",
          "data": {
            "text/plain": [
              "1"
            ]
          },
          "metadata": {},
          "execution_count": 313
        }
      ]
    },
    {
      "cell_type": "code",
      "source": [
        "# def valid_i(i):\n",
        "#     for \n",
        "#     stock_lengths['train_start']"
      ],
      "metadata": {
        "id": "o7SW3YAwv3XB"
      },
      "execution_count": null,
      "outputs": []
    },
    {
      "cell_type": "code",
      "source": [
        "# df"
      ],
      "metadata": {
        "id": "ze0WVcFXuoCs"
      },
      "execution_count": 455,
      "outputs": []
    },
    {
      "cell_type": "code",
      "source": [
        "# ((i >= stock_lengths['train_start']) & (i < stock_lengths['train_end'])).sum()"
      ],
      "metadata": {
        "colab": {
          "base_uri": "https://localhost:8080/"
        },
        "id": "mDmGmNuWxWq4",
        "outputId": "7da03863-de02-45eb-a1fe-f7391f8b380a"
      },
      "execution_count": 327,
      "outputs": [
        {
          "output_type": "execute_result",
          "data": {
            "text/plain": [
              "1"
            ]
          },
          "metadata": {},
          "execution_count": 327
        }
      ]
    },
    {
      "cell_type": "code",
      "source": [
        "import random\n",
        "def seq_data_iter_sequential(corpus, target, batch_size, num_steps, train=True): \n",
        "    \"\"\"使用顺序分区生成一个小批量子序列。\"\"\"\n",
        "    # 从随机偏移量开始划分序列\n",
        "    offset = random.randint(0, num_steps)\n",
        "    num_tokens = ((len(corpus) - offset - 1) // batch_size) * batch_size\n",
        "    Xs = torch.tensor(corpus[offset: offset + num_tokens])\n",
        "    # Ys = torch.tensor(corpus[offset + 1: offset + 1 + num_tokens])\n",
        "    Ys = torch.tensor(target[offset: offset + num_tokens].values)\n",
        "    Xs, Ys = Xs.reshape(batch_size, -1, corpus.shape[-1]), Ys.reshape(batch_size, -1, 1)\n",
        "    num_batches = Xs.shape[1] // num_steps\n",
        "    for i in range(0, num_steps * num_batches, num_steps):\n",
        "        if train:\n",
        "            if ((i >= stock_lengths['train_start']) & (i < stock_lengths['train_end'])).sum() != 1:\n",
        "                continue\n",
        "        else:\n",
        "            if ((i >= stock_lengths['train_end']) & (i < stock_lengths['test_start'])).sum() != 1:\n",
        "                continue\n",
        "        X = Xs[:, i: i + num_steps]\n",
        "        Y = Ys[:, i: i + num_steps].reshape(-1, 1)\n",
        "        yield X, Y\n",
        "\n",
        "\n",
        "class SeqDataLoader:\n",
        "    def __init__(self, corpus, target, batch_size, num_steps, train=True):\n",
        "        self.corpus = corpus\n",
        "        self.batch_size = batch_size \n",
        "        self.num_steps = num_steps\n",
        "        self.target = target\n",
        "        self.train = train\n",
        "    def __iter__(self):\n",
        "        return seq_data_iter_sequential(self.corpus, self.target, self.batch_size, self.num_steps, self.train)"
      ],
      "metadata": {
        "id": "HxtIxGOYnqf0"
      },
      "execution_count": 383,
      "outputs": []
    },
    {
      "cell_type": "code",
      "source": [
        "train_iter = SeqDataLoader(corpus, target, batch_size, num_steps, train=True)\n",
        "for i, (X, y) in enumerate(train_iter):\n",
        "  print(i, X.shape, y.shape)\n",
        "  break\n",
        "  \n",
        "test_iter = SeqDataLoader(corpus, target, batch_size, num_steps, train=False)\n",
        "for i, (X, y) in enumerate(test_iter):\n",
        "  print(i, X.shape, y.shape)\n",
        "  break"
      ],
      "metadata": {
        "colab": {
          "base_uri": "https://localhost:8080/"
        },
        "id": "GJqNp8bdxMNP",
        "outputId": "2eba118e-f25d-46a8-acdd-efc07f34e182"
      },
      "execution_count": 384,
      "outputs": [
        {
          "output_type": "stream",
          "name": "stdout",
          "text": [
            "0 torch.Size([10, 20, 768]) torch.Size([200, 1])\n",
            "0 torch.Size([10, 20, 768]) torch.Size([200, 1])\n"
          ]
        }
      ]
    },
    {
      "cell_type": "code",
      "source": [
        "\n",
        "class RNNModel(nn.Module):\n",
        "    \"\"\"The RNN model.\"\"\"\n",
        "    def __init__(self, rnn_layer, vocab_size, **kwargs):\n",
        "        super(RNNModel, self).__init__(**kwargs)\n",
        "        self.rnn = rnn_layer\n",
        "        self.vocab_size = vocab_size\n",
        "        self.num_hiddens = self.rnn.hidden_size\n",
        "        # If the RNN is bidirectional (to be introduced later),\n",
        "        # `num_directions` should be 2, else it should be 1.\n",
        "        if not self.rnn.bidirectional:\n",
        "            self.num_directions = 1\n",
        "            self.linear = nn.Linear(self.num_hiddens, self.vocab_size)\n",
        "        else:\n",
        "            self.num_directions = 2\n",
        "            self.linear = nn.Linear(self.num_hiddens * 2, self.vocab_size)\n",
        "        self.linear2 = nn.Linear(self.vocab_size, 2)\n",
        "\n",
        "    def forward(self, inputs, state):\n",
        "        # X = F.one_hot(inputs.T.long(), self.vocab_size)\n",
        "        # X = X.to(torch.float32)\n",
        "        X = inputs\n",
        "        X = X.to(torch.float32).reshape(X.shape[1], X.shape[0], -1)\n",
        "        # print(\"X\", X.shape)\n",
        "        Y, state = self.rnn(X, state)\n",
        "        # print(\"Y\", Y.shape)\n",
        "        # The fully connected layer will first change the shape of `Y` to\n",
        "        # (`num_steps` * `batch_size`, `num_hiddens`). Its output shape is\n",
        "        # (`num_steps` * `batch_size`, `vocab_size`).\n",
        "        output = self.linear(Y.reshape((-1, Y.shape[-1])))\n",
        "        # print(\"output\", output.shape)\n",
        "        output = self.linear2(output)\n",
        "        output = torch.sigmoid(output)\n",
        "        return output, state\n",
        "\n",
        "    def begin_state(self, device, batch_size=1):\n",
        "        if not isinstance(self.rnn, nn.LSTM):\n",
        "            # `nn.GRU` takes a tensor as hidden state\n",
        "            return torch.zeros((self.num_directions * self.rnn.num_layers,\n",
        "                                batch_size, self.num_hiddens), device=device)\n",
        "        else:\n",
        "            # `nn.LSTM` takes a tuple of hidden states\n",
        "            return (torch.zeros((self.num_directions * self.rnn.num_layers,\n",
        "                                 batch_size, self.num_hiddens),\n",
        "                                device=device),\n",
        "                    torch.zeros((self.num_directions * self.rnn.num_layers,\n",
        "                                 batch_size, self.num_hiddens),\n",
        "                                device=device))\n",
        "\n",
        "device = d2l.try_gpu()\n",
        "num_inputs = 768\n",
        "num_hiddens = 30\n",
        "lstm_layer = nn.LSTM(num_inputs, num_hiddens)\n",
        "model = RNNModel(lstm_layer, num_inputs)\n",
        "model = model.to(device)"
      ],
      "metadata": {
        "id": "Zs6hl0EUe82s"
      },
      "execution_count": 385,
      "outputs": []
    },
    {
      "cell_type": "code",
      "source": [
        "# import random\n",
        "# def seq_data_iter_sequential(corpus, batch_size, num_steps): \n",
        "#     \"\"\"使用顺序分区生成一个小批量子序列。\"\"\"\n",
        "#     # 从随机偏移量开始划分序列\n",
        "#     offset = random.randint(0, num_steps)\n",
        "#     num_tokens = ((len(corpus) - offset - 1) // batch_size) * batch_size\n",
        "#     Xs = torch.tensor(corpus[offset: offset + num_tokens])\n",
        "#     Ys = torch.tensor(corpus[offset + 1: offset + 1 + num_tokens])\n",
        "#     Xs, Ys = Xs.reshape(batch_size, -1, corpus.shape[-1]), Ys.reshape(batch_size, -1, corpus.shape[-1])\n",
        "#     num_batches = Xs.shape[1] // num_steps\n",
        "#     for i in range(0, num_steps * num_batches, num_steps):\n",
        "#         X = Xs[:, i: i + num_steps]\n",
        "#         Y = Ys[:, i: i + num_steps].reshape((-1, Ys.shape[-1]))\n",
        "#         yield X, Y\n",
        "        \n",
        "\n",
        "# import random\n",
        "# def seq_data_iter_sequential(corpus, target, batch_size, num_steps): \n",
        "#     \"\"\"使用顺序分区生成一个小批量子序列。\"\"\"\n",
        "#     # 从随机偏移量开始划分序列\n",
        "#     offset = random.randint(0, num_steps)\n",
        "#     num_tokens = ((len(corpus) - offset - 1) // batch_size) * batch_size\n",
        "#     Xs = torch.tensor(corpus[offset: offset + num_tokens])\n",
        "#     # Ys = torch.tensor(corpus[offset + 1: offset + 1 + num_tokens])\n",
        "#     Ys = torch.tensor(target[offset: offset + num_tokens].values)\n",
        "#     Xs, Ys = Xs.reshape(batch_size, -1, corpus.shape[-1]), Ys.reshape(batch_size, -1, 1)\n",
        "#     num_batches = Xs.shape[1] // num_steps\n",
        "#     for i in range(0, num_steps * num_batches, num_steps):\n",
        "#         X = Xs[:, i: i + num_steps]\n",
        "#         Y = Ys[:, i: i + num_steps].reshape(-1, 1)\n",
        "#         yield X, Y\n",
        "\n",
        "# class SeqDataLoader:\n",
        "#     def __init__(self, corpus, batch_size, num_steps):\n",
        "#         self.corpus = corpus\n",
        "#         self.batch_size = batch_size \n",
        "#         self.num_steps = num_steps\n",
        "#     def __iter__(self):\n",
        "#         return seq_data_iter_sequential(self.corpus, self.batch_size, self.num_steps)\n",
        "\n",
        "\n",
        "# class SeqDataLoader:\n",
        "#     def __init__(self, corpus, target, batch_size, num_steps):\n",
        "#         self.corpus = corpus\n",
        "#         self.batch_size = batch_size \n",
        "#         self.num_steps = num_steps\n",
        "#         self.target = target\n",
        "#     def __iter__(self):\n",
        "#         return seq_data_iter_sequential(self.corpus, self.target, self.batch_size, self.num_steps)\n"
      ],
      "metadata": {
        "id": "krsAQZ0VbkKO"
      },
      "execution_count": 386,
      "outputs": []
    },
    {
      "cell_type": "code",
      "source": [
        ""
      ],
      "metadata": {
        "id": "cs0WLfDRmRC2"
      },
      "execution_count": 386,
      "outputs": []
    },
    {
      "cell_type": "code",
      "source": [
        "# batch_size = 10\n",
        "# num_steps = 20\n",
        "# train_iter = SeqDataLoader(corpus, target, batch_size, num_steps)\n",
        "# for i, (X, y) in enumerate(train_iter):\n",
        "#   print(i, X.shape, y.shape)\n",
        "#   break"
      ],
      "metadata": {
        "colab": {
          "base_uri": "https://localhost:8080/"
        },
        "id": "NIDQyp1QhIRZ",
        "outputId": "1586b995-56a8-4070-b60a-5285b2118040"
      },
      "execution_count": 387,
      "outputs": [
        {
          "output_type": "stream",
          "name": "stdout",
          "text": [
            "0 torch.Size([10, 20, 768]) torch.Size([200, 1])\n"
          ]
        }
      ]
    },
    {
      "cell_type": "code",
      "source": [
        "batch_size = 10\n",
        "num_steps = 20\n",
        "lr = 0.1\n",
        "device = d2l.try_gpu()\n",
        "num_inputs = 768\n",
        "num_hiddens = 30\n",
        "\n",
        "train_iter = SeqDataLoader(corpus, target, batch_size, num_steps)\n",
        "lstm_layer = nn.LSTM(num_inputs, num_hiddens)\n",
        "model = RNNModel(lstm_layer, num_inputs)\n",
        "model = model.to(device)\n",
        "# d2l.train_ch8(model, train_iter, corpus, lr, num_epochs, device)"
      ],
      "metadata": {
        "id": "Lszb3iukdTz5"
      },
      "execution_count": 450,
      "outputs": []
    },
    {
      "cell_type": "code",
      "source": [
        "def train_epoch_ch8(net, train_iter, loss, updater, device, use_random_iter):\n",
        "    \"\"\"Train a net within one epoch (defined in Chapter 8).\"\"\"\n",
        "    state, timer = None, d2l.Timer()\n",
        "    metric = d2l.Accumulator(3)  # Sum of training loss, no. of tokens\n",
        "    counter = 0\n",
        "    # print(counter)\n",
        "    for X, Y in train_iter:\n",
        "        counter += 1\n",
        "        # print(\"counter:\", counter)\n",
        "        # print(\"X\", X)\n",
        "        # print(\"*\" * 30)\n",
        "        # print(\"Y\", d2l.size(Y))\n",
        "        if state is None or use_random_iter:\n",
        "            # Initialize `state` when either it is the first iteration or\n",
        "            # using random sampling\n",
        "            state = net.begin_state(batch_size=X.shape[0], device=device)\n",
        "        else:\n",
        "            if isinstance(net, nn.Module) and not isinstance(state, tuple):\n",
        "                # `state` is a tensor for `nn.GRU`\n",
        "                state.detach_()\n",
        "            else:\n",
        "                # `state` is a tuple of tensors for `nn.LSTM` and\n",
        "                # for our custom scratch implementation\n",
        "                for s in state:\n",
        "                    s.detach_()\n",
        "        # y = Y.T.reshape(-1)\n",
        "        y = Y.reshape(-1)\n",
        "        # print(\"y\", y.shape)\n",
        "        X, y = X.to(device), y.to(device)\n",
        "        y_hat, state = net(X, state)\n",
        "        y_pred = torch.argmax(y_hat, dim=1).reshape(y.shape)\n",
        "        cmp = d2l.astype(y_pred, y.dtype) == y\n",
        "        right_prediction = cmp.sum()\n",
        "\n",
        "        # print(\"y\", y, \"y_hat\", y_hat)\n",
        "        # print(\"y shape\", y.shape, \"y_hat shape\", y_hat.shape)\n",
        "        # print(\"y type\", y.dtype, \"y_hat type\", y_hat.dtype)\n",
        "        # break\n",
        "        l = loss(y_hat, y).mean()\n",
        "        if isinstance(updater, torch.optim.Optimizer):\n",
        "            updater.zero_grad()\n",
        "            l.backward()\n",
        "            d2l.grad_clipping(net, 1)\n",
        "            updater.step()\n",
        "        else:\n",
        "            l.backward()\n",
        "            d2l.grad_clipping(net, 1)\n",
        "            # Since the `mean` function has been invoked\n",
        "            updater(batch_size=1)\n",
        "        metric.add(l * d2l.size(y), d2l.size(y), right_prediction)\n",
        "        # print(\"size y\", d2l.size(y))\n",
        "\n",
        "    # print(\"metric\", metric[0], metric[1], metric[2])\n",
        "    return metric[0] / metric[1], metric[1] / timer.stop(), metric[2] / metric[1]\n",
        "\n",
        "\n",
        "def train_ch8(net, train_iter, test_iter, vocab, lr, num_epochs, device,\n",
        "              use_random_iter=False):\n",
        "    \"\"\"Train a model (defined in Chapter 8).\"\"\"\n",
        "    loss = nn.CrossEntropyLoss()\n",
        "    animator = d2l.Animator(xlabel='epoch', ylabel='perplexity',\n",
        "                            legend=['train loss','train acc', 'test acc'], xlim=[10, num_epochs])\n",
        "    # Initialize\n",
        "    if isinstance(net, nn.Module):\n",
        "        updater = torch.optim.SGD(net.parameters(), lr)\n",
        "    else:\n",
        "        updater = lambda batch_size: d2l.sgd(net.params, lr, batch_size)\n",
        "    # Train and predict\n",
        "    for epoch in range(num_epochs):\n",
        "        ppl, speed, train_accuracy = train_epoch_ch8(net, train_iter, loss, updater, device,\n",
        "                                     use_random_iter)\n",
        "        test_accuracy = evaluate_accuracy(net, test_iter, device)\n",
        "        if (epoch + 1) % 10 == 0:\n",
        "            animator.add(epoch + 1, [ppl, train_accuracy, test_accuracy])\n",
        "\n"
      ],
      "metadata": {
        "id": "Z0iPnUQ6g2Lo"
      },
      "execution_count": 451,
      "outputs": []
    },
    {
      "cell_type": "code",
      "source": [
        "def evaluate_accuracy(net, data_iter, device):\n",
        "    state, timer = None, d2l.Timer()\n",
        "    metric = d2l.Accumulator(2)\n",
        "    state = net.begin_state(batch_size=10, device=device)\n",
        "    outputs = []\n",
        "\n",
        "    with torch.no_grad():\n",
        "        for X, y in data_iter:\n",
        "            X, y = X.to(device), y.to(device)\n",
        "            y_pred, state = net(X, state)\n",
        "            y_pred = torch.argmax(y_pred, dim=1).reshape(y.shape)\n",
        "            cmp = d2l.astype(y_pred, y.dtype) == y\n",
        "            right_prediction = cmp.sum()\n",
        "            # print(\"y size\", y.shape, \"y_pred\", y_pred.shape, \"right_pred\", right_prediction)\n",
        "            metric.add(d2l.size(y), right_prediction)\n",
        "    return metric[1] / metric[0]\n"
      ],
      "metadata": {
        "id": "29WkxN2553yJ"
      },
      "execution_count": 452,
      "outputs": []
    },
    {
      "cell_type": "code",
      "source": [
        "evaluate_accuracy(model, test_iter, device)"
      ],
      "metadata": {
        "colab": {
          "base_uri": "https://localhost:8080/"
        },
        "id": "TOz5kyA69PA6",
        "outputId": "1445fd2a-ead6-4696-c4e7-5446621a30d8"
      },
      "execution_count": 453,
      "outputs": [
        {
          "output_type": "execute_result",
          "data": {
            "text/plain": [
              "0.5083333333333333"
            ]
          },
          "metadata": {},
          "execution_count": 453
        }
      ]
    },
    {
      "cell_type": "code",
      "source": [
        "import math\n",
        "train_ch8(model, train_iter, test_iter, corpus, lr, num_epochs, device)"
      ],
      "metadata": {
        "colab": {
          "base_uri": "https://localhost:8080/",
          "height": 262
        },
        "id": "Mhp_8IRkhJfh",
        "outputId": "8b560a71-a271-4c75-894d-1fa6cc0815e5"
      },
      "execution_count": 454,
      "outputs": [
        {
          "output_type": "display_data",
          "data": {
            "text/plain": [
              "<Figure size 252x180 with 1 Axes>"
            ],
            "image/svg+xml": "<?xml version=\"1.0\" encoding=\"utf-8\" standalone=\"no\"?>\n<!DOCTYPE svg PUBLIC \"-//W3C//DTD SVG 1.1//EN\"\n  \"http://www.w3.org/Graphics/SVG/1.1/DTD/svg11.dtd\">\n<!-- Created with matplotlib (https://matplotlib.org/) -->\n<svg height=\"180.65625pt\" version=\"1.1\" viewBox=\"0 0 259.00625 180.65625\" width=\"259.00625pt\" xmlns=\"http://www.w3.org/2000/svg\" xmlns:xlink=\"http://www.w3.org/1999/xlink\">\n <defs>\n  <style type=\"text/css\">\n*{stroke-linecap:butt;stroke-linejoin:round;}\n  </style>\n </defs>\n <g id=\"figure_1\">\n  <g id=\"patch_1\">\n   <path d=\"M 0 180.65625 \nL 259.00625 180.65625 \nL 259.00625 0 \nL 0 0 \nz\n\" style=\"fill:none;\"/>\n  </g>\n  <g id=\"axes_1\">\n   <g id=\"patch_2\">\n    <path d=\"M 43.78125 143.1 \nL 239.08125 143.1 \nL 239.08125 7.2 \nL 43.78125 7.2 \nz\n\" style=\"fill:#ffffff;\"/>\n   </g>\n   <g id=\"matplotlib.axis_1\">\n    <g id=\"xtick_1\">\n     <g id=\"line2d_1\">\n      <path clip-path=\"url(#p34e50e7d8e)\" d=\"M 81.263068 143.1 \nL 81.263068 7.2 \n\" style=\"fill:none;stroke:#b0b0b0;stroke-linecap:square;stroke-width:0.8;\"/>\n     </g>\n     <g id=\"line2d_2\">\n      <defs>\n       <path d=\"M 0 0 \nL 0 3.5 \n\" id=\"mad09e580f7\" style=\"stroke:#000000;stroke-width:0.8;\"/>\n      </defs>\n      <g>\n       <use style=\"stroke:#000000;stroke-width:0.8;\" x=\"81.263068\" xlink:href=\"#mad09e580f7\" y=\"143.1\"/>\n      </g>\n     </g>\n     <g id=\"text_1\">\n      <!-- 200 -->\n      <defs>\n       <path d=\"M 19.1875 8.296875 \nL 53.609375 8.296875 \nL 53.609375 0 \nL 7.328125 0 \nL 7.328125 8.296875 \nQ 12.9375 14.109375 22.625 23.890625 \nQ 32.328125 33.6875 34.8125 36.53125 \nQ 39.546875 41.84375 41.421875 45.53125 \nQ 43.3125 49.21875 43.3125 52.78125 \nQ 43.3125 58.59375 39.234375 62.25 \nQ 35.15625 65.921875 28.609375 65.921875 \nQ 23.96875 65.921875 18.8125 64.3125 \nQ 13.671875 62.703125 7.8125 59.421875 \nL 7.8125 69.390625 \nQ 13.765625 71.78125 18.9375 73 \nQ 24.125 74.21875 28.421875 74.21875 \nQ 39.75 74.21875 46.484375 68.546875 \nQ 53.21875 62.890625 53.21875 53.421875 \nQ 53.21875 48.921875 51.53125 44.890625 \nQ 49.859375 40.875 45.40625 35.40625 \nQ 44.1875 33.984375 37.640625 27.21875 \nQ 31.109375 20.453125 19.1875 8.296875 \nz\n\" id=\"DejaVuSans-50\"/>\n       <path d=\"M 31.78125 66.40625 \nQ 24.171875 66.40625 20.328125 58.90625 \nQ 16.5 51.421875 16.5 36.375 \nQ 16.5 21.390625 20.328125 13.890625 \nQ 24.171875 6.390625 31.78125 6.390625 \nQ 39.453125 6.390625 43.28125 13.890625 \nQ 47.125 21.390625 47.125 36.375 \nQ 47.125 51.421875 43.28125 58.90625 \nQ 39.453125 66.40625 31.78125 66.40625 \nz\nM 31.78125 74.21875 \nQ 44.046875 74.21875 50.515625 64.515625 \nQ 56.984375 54.828125 56.984375 36.375 \nQ 56.984375 17.96875 50.515625 8.265625 \nQ 44.046875 -1.421875 31.78125 -1.421875 \nQ 19.53125 -1.421875 13.0625 8.265625 \nQ 6.59375 17.96875 6.59375 36.375 \nQ 6.59375 54.828125 13.0625 64.515625 \nQ 19.53125 74.21875 31.78125 74.21875 \nz\n\" id=\"DejaVuSans-48\"/>\n      </defs>\n      <g transform=\"translate(71.719318 157.698438)scale(0.1 -0.1)\">\n       <use xlink:href=\"#DejaVuSans-50\"/>\n       <use x=\"63.623047\" xlink:href=\"#DejaVuSans-48\"/>\n       <use x=\"127.246094\" xlink:href=\"#DejaVuSans-48\"/>\n      </g>\n     </g>\n    </g>\n    <g id=\"xtick_2\">\n     <g id=\"line2d_3\">\n      <path clip-path=\"url(#p34e50e7d8e)\" d=\"M 120.717614 143.1 \nL 120.717614 7.2 \n\" style=\"fill:none;stroke:#b0b0b0;stroke-linecap:square;stroke-width:0.8;\"/>\n     </g>\n     <g id=\"line2d_4\">\n      <g>\n       <use style=\"stroke:#000000;stroke-width:0.8;\" x=\"120.717614\" xlink:href=\"#mad09e580f7\" y=\"143.1\"/>\n      </g>\n     </g>\n     <g id=\"text_2\">\n      <!-- 400 -->\n      <defs>\n       <path d=\"M 37.796875 64.3125 \nL 12.890625 25.390625 \nL 37.796875 25.390625 \nz\nM 35.203125 72.90625 \nL 47.609375 72.90625 \nL 47.609375 25.390625 \nL 58.015625 25.390625 \nL 58.015625 17.1875 \nL 47.609375 17.1875 \nL 47.609375 0 \nL 37.796875 0 \nL 37.796875 17.1875 \nL 4.890625 17.1875 \nL 4.890625 26.703125 \nz\n\" id=\"DejaVuSans-52\"/>\n      </defs>\n      <g transform=\"translate(111.173864 157.698438)scale(0.1 -0.1)\">\n       <use xlink:href=\"#DejaVuSans-52\"/>\n       <use x=\"63.623047\" xlink:href=\"#DejaVuSans-48\"/>\n       <use x=\"127.246094\" xlink:href=\"#DejaVuSans-48\"/>\n      </g>\n     </g>\n    </g>\n    <g id=\"xtick_3\">\n     <g id=\"line2d_5\">\n      <path clip-path=\"url(#p34e50e7d8e)\" d=\"M 160.172159 143.1 \nL 160.172159 7.2 \n\" style=\"fill:none;stroke:#b0b0b0;stroke-linecap:square;stroke-width:0.8;\"/>\n     </g>\n     <g id=\"line2d_6\">\n      <g>\n       <use style=\"stroke:#000000;stroke-width:0.8;\" x=\"160.172159\" xlink:href=\"#mad09e580f7\" y=\"143.1\"/>\n      </g>\n     </g>\n     <g id=\"text_3\">\n      <!-- 600 -->\n      <defs>\n       <path d=\"M 33.015625 40.375 \nQ 26.375 40.375 22.484375 35.828125 \nQ 18.609375 31.296875 18.609375 23.390625 \nQ 18.609375 15.53125 22.484375 10.953125 \nQ 26.375 6.390625 33.015625 6.390625 \nQ 39.65625 6.390625 43.53125 10.953125 \nQ 47.40625 15.53125 47.40625 23.390625 \nQ 47.40625 31.296875 43.53125 35.828125 \nQ 39.65625 40.375 33.015625 40.375 \nz\nM 52.59375 71.296875 \nL 52.59375 62.3125 \nQ 48.875 64.0625 45.09375 64.984375 \nQ 41.3125 65.921875 37.59375 65.921875 \nQ 27.828125 65.921875 22.671875 59.328125 \nQ 17.53125 52.734375 16.796875 39.40625 \nQ 19.671875 43.65625 24.015625 45.921875 \nQ 28.375 48.1875 33.59375 48.1875 \nQ 44.578125 48.1875 50.953125 41.515625 \nQ 57.328125 34.859375 57.328125 23.390625 \nQ 57.328125 12.15625 50.6875 5.359375 \nQ 44.046875 -1.421875 33.015625 -1.421875 \nQ 20.359375 -1.421875 13.671875 8.265625 \nQ 6.984375 17.96875 6.984375 36.375 \nQ 6.984375 53.65625 15.1875 63.9375 \nQ 23.390625 74.21875 37.203125 74.21875 \nQ 40.921875 74.21875 44.703125 73.484375 \nQ 48.484375 72.75 52.59375 71.296875 \nz\n\" id=\"DejaVuSans-54\"/>\n      </defs>\n      <g transform=\"translate(150.628409 157.698438)scale(0.1 -0.1)\">\n       <use xlink:href=\"#DejaVuSans-54\"/>\n       <use x=\"63.623047\" xlink:href=\"#DejaVuSans-48\"/>\n       <use x=\"127.246094\" xlink:href=\"#DejaVuSans-48\"/>\n      </g>\n     </g>\n    </g>\n    <g id=\"xtick_4\">\n     <g id=\"line2d_7\">\n      <path clip-path=\"url(#p34e50e7d8e)\" d=\"M 199.626705 143.1 \nL 199.626705 7.2 \n\" style=\"fill:none;stroke:#b0b0b0;stroke-linecap:square;stroke-width:0.8;\"/>\n     </g>\n     <g id=\"line2d_8\">\n      <g>\n       <use style=\"stroke:#000000;stroke-width:0.8;\" x=\"199.626705\" xlink:href=\"#mad09e580f7\" y=\"143.1\"/>\n      </g>\n     </g>\n     <g id=\"text_4\">\n      <!-- 800 -->\n      <defs>\n       <path d=\"M 31.78125 34.625 \nQ 24.75 34.625 20.71875 30.859375 \nQ 16.703125 27.09375 16.703125 20.515625 \nQ 16.703125 13.921875 20.71875 10.15625 \nQ 24.75 6.390625 31.78125 6.390625 \nQ 38.8125 6.390625 42.859375 10.171875 \nQ 46.921875 13.96875 46.921875 20.515625 \nQ 46.921875 27.09375 42.890625 30.859375 \nQ 38.875 34.625 31.78125 34.625 \nz\nM 21.921875 38.8125 \nQ 15.578125 40.375 12.03125 44.71875 \nQ 8.5 49.078125 8.5 55.328125 \nQ 8.5 64.0625 14.71875 69.140625 \nQ 20.953125 74.21875 31.78125 74.21875 \nQ 42.671875 74.21875 48.875 69.140625 \nQ 55.078125 64.0625 55.078125 55.328125 \nQ 55.078125 49.078125 51.53125 44.71875 \nQ 48 40.375 41.703125 38.8125 \nQ 48.828125 37.15625 52.796875 32.3125 \nQ 56.78125 27.484375 56.78125 20.515625 \nQ 56.78125 9.90625 50.3125 4.234375 \nQ 43.84375 -1.421875 31.78125 -1.421875 \nQ 19.734375 -1.421875 13.25 4.234375 \nQ 6.78125 9.90625 6.78125 20.515625 \nQ 6.78125 27.484375 10.78125 32.3125 \nQ 14.796875 37.15625 21.921875 38.8125 \nz\nM 18.3125 54.390625 \nQ 18.3125 48.734375 21.84375 45.5625 \nQ 25.390625 42.390625 31.78125 42.390625 \nQ 38.140625 42.390625 41.71875 45.5625 \nQ 45.3125 48.734375 45.3125 54.390625 \nQ 45.3125 60.0625 41.71875 63.234375 \nQ 38.140625 66.40625 31.78125 66.40625 \nQ 25.390625 66.40625 21.84375 63.234375 \nQ 18.3125 60.0625 18.3125 54.390625 \nz\n\" id=\"DejaVuSans-56\"/>\n      </defs>\n      <g transform=\"translate(190.082955 157.698438)scale(0.1 -0.1)\">\n       <use xlink:href=\"#DejaVuSans-56\"/>\n       <use x=\"63.623047\" xlink:href=\"#DejaVuSans-48\"/>\n       <use x=\"127.246094\" xlink:href=\"#DejaVuSans-48\"/>\n      </g>\n     </g>\n    </g>\n    <g id=\"xtick_5\">\n     <g id=\"line2d_9\">\n      <path clip-path=\"url(#p34e50e7d8e)\" d=\"M 239.08125 143.1 \nL 239.08125 7.2 \n\" style=\"fill:none;stroke:#b0b0b0;stroke-linecap:square;stroke-width:0.8;\"/>\n     </g>\n     <g id=\"line2d_10\">\n      <g>\n       <use style=\"stroke:#000000;stroke-width:0.8;\" x=\"239.08125\" xlink:href=\"#mad09e580f7\" y=\"143.1\"/>\n      </g>\n     </g>\n     <g id=\"text_5\">\n      <!-- 1000 -->\n      <defs>\n       <path d=\"M 12.40625 8.296875 \nL 28.515625 8.296875 \nL 28.515625 63.921875 \nL 10.984375 60.40625 \nL 10.984375 69.390625 \nL 28.421875 72.90625 \nL 38.28125 72.90625 \nL 38.28125 8.296875 \nL 54.390625 8.296875 \nL 54.390625 0 \nL 12.40625 0 \nz\n\" id=\"DejaVuSans-49\"/>\n      </defs>\n      <g transform=\"translate(226.35625 157.698438)scale(0.1 -0.1)\">\n       <use xlink:href=\"#DejaVuSans-49\"/>\n       <use x=\"63.623047\" xlink:href=\"#DejaVuSans-48\"/>\n       <use x=\"127.246094\" xlink:href=\"#DejaVuSans-48\"/>\n       <use x=\"190.869141\" xlink:href=\"#DejaVuSans-48\"/>\n      </g>\n     </g>\n    </g>\n    <g id=\"text_6\">\n     <!-- epoch -->\n     <defs>\n      <path d=\"M 56.203125 29.59375 \nL 56.203125 25.203125 \nL 14.890625 25.203125 \nQ 15.484375 15.921875 20.484375 11.0625 \nQ 25.484375 6.203125 34.421875 6.203125 \nQ 39.59375 6.203125 44.453125 7.46875 \nQ 49.3125 8.734375 54.109375 11.28125 \nL 54.109375 2.78125 \nQ 49.265625 0.734375 44.1875 -0.34375 \nQ 39.109375 -1.421875 33.890625 -1.421875 \nQ 20.796875 -1.421875 13.15625 6.1875 \nQ 5.515625 13.8125 5.515625 26.8125 \nQ 5.515625 40.234375 12.765625 48.109375 \nQ 20.015625 56 32.328125 56 \nQ 43.359375 56 49.78125 48.890625 \nQ 56.203125 41.796875 56.203125 29.59375 \nz\nM 47.21875 32.234375 \nQ 47.125 39.59375 43.09375 43.984375 \nQ 39.0625 48.390625 32.421875 48.390625 \nQ 24.90625 48.390625 20.390625 44.140625 \nQ 15.875 39.890625 15.1875 32.171875 \nz\n\" id=\"DejaVuSans-101\"/>\n      <path d=\"M 18.109375 8.203125 \nL 18.109375 -20.796875 \nL 9.078125 -20.796875 \nL 9.078125 54.6875 \nL 18.109375 54.6875 \nL 18.109375 46.390625 \nQ 20.953125 51.265625 25.265625 53.625 \nQ 29.59375 56 35.59375 56 \nQ 45.5625 56 51.78125 48.09375 \nQ 58.015625 40.1875 58.015625 27.296875 \nQ 58.015625 14.40625 51.78125 6.484375 \nQ 45.5625 -1.421875 35.59375 -1.421875 \nQ 29.59375 -1.421875 25.265625 0.953125 \nQ 20.953125 3.328125 18.109375 8.203125 \nz\nM 48.6875 27.296875 \nQ 48.6875 37.203125 44.609375 42.84375 \nQ 40.53125 48.484375 33.40625 48.484375 \nQ 26.265625 48.484375 22.1875 42.84375 \nQ 18.109375 37.203125 18.109375 27.296875 \nQ 18.109375 17.390625 22.1875 11.75 \nQ 26.265625 6.109375 33.40625 6.109375 \nQ 40.53125 6.109375 44.609375 11.75 \nQ 48.6875 17.390625 48.6875 27.296875 \nz\n\" id=\"DejaVuSans-112\"/>\n      <path d=\"M 30.609375 48.390625 \nQ 23.390625 48.390625 19.1875 42.75 \nQ 14.984375 37.109375 14.984375 27.296875 \nQ 14.984375 17.484375 19.15625 11.84375 \nQ 23.34375 6.203125 30.609375 6.203125 \nQ 37.796875 6.203125 41.984375 11.859375 \nQ 46.1875 17.53125 46.1875 27.296875 \nQ 46.1875 37.015625 41.984375 42.703125 \nQ 37.796875 48.390625 30.609375 48.390625 \nz\nM 30.609375 56 \nQ 42.328125 56 49.015625 48.375 \nQ 55.71875 40.765625 55.71875 27.296875 \nQ 55.71875 13.875 49.015625 6.21875 \nQ 42.328125 -1.421875 30.609375 -1.421875 \nQ 18.84375 -1.421875 12.171875 6.21875 \nQ 5.515625 13.875 5.515625 27.296875 \nQ 5.515625 40.765625 12.171875 48.375 \nQ 18.84375 56 30.609375 56 \nz\n\" id=\"DejaVuSans-111\"/>\n      <path d=\"M 48.78125 52.59375 \nL 48.78125 44.1875 \nQ 44.96875 46.296875 41.140625 47.34375 \nQ 37.3125 48.390625 33.40625 48.390625 \nQ 24.65625 48.390625 19.8125 42.84375 \nQ 14.984375 37.3125 14.984375 27.296875 \nQ 14.984375 17.28125 19.8125 11.734375 \nQ 24.65625 6.203125 33.40625 6.203125 \nQ 37.3125 6.203125 41.140625 7.25 \nQ 44.96875 8.296875 48.78125 10.40625 \nL 48.78125 2.09375 \nQ 45.015625 0.34375 40.984375 -0.53125 \nQ 36.96875 -1.421875 32.421875 -1.421875 \nQ 20.0625 -1.421875 12.78125 6.34375 \nQ 5.515625 14.109375 5.515625 27.296875 \nQ 5.515625 40.671875 12.859375 48.328125 \nQ 20.21875 56 33.015625 56 \nQ 37.15625 56 41.109375 55.140625 \nQ 45.0625 54.296875 48.78125 52.59375 \nz\n\" id=\"DejaVuSans-99\"/>\n      <path d=\"M 54.890625 33.015625 \nL 54.890625 0 \nL 45.90625 0 \nL 45.90625 32.71875 \nQ 45.90625 40.484375 42.875 44.328125 \nQ 39.84375 48.1875 33.796875 48.1875 \nQ 26.515625 48.1875 22.3125 43.546875 \nQ 18.109375 38.921875 18.109375 30.90625 \nL 18.109375 0 \nL 9.078125 0 \nL 9.078125 75.984375 \nL 18.109375 75.984375 \nL 18.109375 46.1875 \nQ 21.34375 51.125 25.703125 53.5625 \nQ 30.078125 56 35.796875 56 \nQ 45.21875 56 50.046875 50.171875 \nQ 54.890625 44.34375 54.890625 33.015625 \nz\n\" id=\"DejaVuSans-104\"/>\n     </defs>\n     <g transform=\"translate(126.203125 171.376563)scale(0.1 -0.1)\">\n      <use xlink:href=\"#DejaVuSans-101\"/>\n      <use x=\"61.523438\" xlink:href=\"#DejaVuSans-112\"/>\n      <use x=\"125\" xlink:href=\"#DejaVuSans-111\"/>\n      <use x=\"186.181641\" xlink:href=\"#DejaVuSans-99\"/>\n      <use x=\"241.162109\" xlink:href=\"#DejaVuSans-104\"/>\n     </g>\n    </g>\n   </g>\n   <g id=\"matplotlib.axis_2\">\n    <g id=\"ytick_1\">\n     <g id=\"line2d_11\">\n      <path clip-path=\"url(#p34e50e7d8e)\" d=\"M 43.78125 126.834425 \nL 239.08125 126.834425 \n\" style=\"fill:none;stroke:#b0b0b0;stroke-linecap:square;stroke-width:0.8;\"/>\n     </g>\n     <g id=\"line2d_12\">\n      <defs>\n       <path d=\"M 0 0 \nL -3.5 0 \n\" id=\"m3125769bd4\" style=\"stroke:#000000;stroke-width:0.8;\"/>\n      </defs>\n      <g>\n       <use style=\"stroke:#000000;stroke-width:0.8;\" x=\"43.78125\" xlink:href=\"#m3125769bd4\" y=\"126.834425\"/>\n      </g>\n     </g>\n     <g id=\"text_7\">\n      <!-- 0.4 -->\n      <defs>\n       <path d=\"M 10.6875 12.40625 \nL 21 12.40625 \nL 21 0 \nL 10.6875 0 \nz\n\" id=\"DejaVuSans-46\"/>\n      </defs>\n      <g transform=\"translate(20.878125 130.633643)scale(0.1 -0.1)\">\n       <use xlink:href=\"#DejaVuSans-48\"/>\n       <use x=\"63.623047\" xlink:href=\"#DejaVuSans-46\"/>\n       <use x=\"95.410156\" xlink:href=\"#DejaVuSans-52\"/>\n      </g>\n     </g>\n    </g>\n    <g id=\"ytick_2\">\n     <g id=\"line2d_13\">\n      <path clip-path=\"url(#p34e50e7d8e)\" d=\"M 43.78125 86.581475 \nL 239.08125 86.581475 \n\" style=\"fill:none;stroke:#b0b0b0;stroke-linecap:square;stroke-width:0.8;\"/>\n     </g>\n     <g id=\"line2d_14\">\n      <g>\n       <use style=\"stroke:#000000;stroke-width:0.8;\" x=\"43.78125\" xlink:href=\"#m3125769bd4\" y=\"86.581475\"/>\n      </g>\n     </g>\n     <g id=\"text_8\">\n      <!-- 0.6 -->\n      <g transform=\"translate(20.878125 90.380693)scale(0.1 -0.1)\">\n       <use xlink:href=\"#DejaVuSans-48\"/>\n       <use x=\"63.623047\" xlink:href=\"#DejaVuSans-46\"/>\n       <use x=\"95.410156\" xlink:href=\"#DejaVuSans-54\"/>\n      </g>\n     </g>\n    </g>\n    <g id=\"ytick_3\">\n     <g id=\"line2d_15\">\n      <path clip-path=\"url(#p34e50e7d8e)\" d=\"M 43.78125 46.328525 \nL 239.08125 46.328525 \n\" style=\"fill:none;stroke:#b0b0b0;stroke-linecap:square;stroke-width:0.8;\"/>\n     </g>\n     <g id=\"line2d_16\">\n      <g>\n       <use style=\"stroke:#000000;stroke-width:0.8;\" x=\"43.78125\" xlink:href=\"#m3125769bd4\" y=\"46.328525\"/>\n      </g>\n     </g>\n     <g id=\"text_9\">\n      <!-- 0.8 -->\n      <g transform=\"translate(20.878125 50.127744)scale(0.1 -0.1)\">\n       <use xlink:href=\"#DejaVuSans-48\"/>\n       <use x=\"63.623047\" xlink:href=\"#DejaVuSans-46\"/>\n       <use x=\"95.410156\" xlink:href=\"#DejaVuSans-56\"/>\n      </g>\n     </g>\n    </g>\n    <g id=\"text_10\">\n     <!-- perplexity -->\n     <defs>\n      <path d=\"M 41.109375 46.296875 \nQ 39.59375 47.171875 37.8125 47.578125 \nQ 36.03125 48 33.890625 48 \nQ 26.265625 48 22.1875 43.046875 \nQ 18.109375 38.09375 18.109375 28.8125 \nL 18.109375 0 \nL 9.078125 0 \nL 9.078125 54.6875 \nL 18.109375 54.6875 \nL 18.109375 46.1875 \nQ 20.953125 51.171875 25.484375 53.578125 \nQ 30.03125 56 36.53125 56 \nQ 37.453125 56 38.578125 55.875 \nQ 39.703125 55.765625 41.0625 55.515625 \nz\n\" id=\"DejaVuSans-114\"/>\n      <path d=\"M 9.421875 75.984375 \nL 18.40625 75.984375 \nL 18.40625 0 \nL 9.421875 0 \nz\n\" id=\"DejaVuSans-108\"/>\n      <path d=\"M 54.890625 54.6875 \nL 35.109375 28.078125 \nL 55.90625 0 \nL 45.3125 0 \nL 29.390625 21.484375 \nL 13.484375 0 \nL 2.875 0 \nL 24.125 28.609375 \nL 4.6875 54.6875 \nL 15.28125 54.6875 \nL 29.78125 35.203125 \nL 44.28125 54.6875 \nz\n\" id=\"DejaVuSans-120\"/>\n      <path d=\"M 9.421875 54.6875 \nL 18.40625 54.6875 \nL 18.40625 0 \nL 9.421875 0 \nz\nM 9.421875 75.984375 \nL 18.40625 75.984375 \nL 18.40625 64.59375 \nL 9.421875 64.59375 \nz\n\" id=\"DejaVuSans-105\"/>\n      <path d=\"M 18.3125 70.21875 \nL 18.3125 54.6875 \nL 36.8125 54.6875 \nL 36.8125 47.703125 \nL 18.3125 47.703125 \nL 18.3125 18.015625 \nQ 18.3125 11.328125 20.140625 9.421875 \nQ 21.96875 7.515625 27.59375 7.515625 \nL 36.8125 7.515625 \nL 36.8125 0 \nL 27.59375 0 \nQ 17.1875 0 13.234375 3.875 \nQ 9.28125 7.765625 9.28125 18.015625 \nL 9.28125 47.703125 \nL 2.6875 47.703125 \nL 2.6875 54.6875 \nL 9.28125 54.6875 \nL 9.28125 70.21875 \nz\n\" id=\"DejaVuSans-116\"/>\n      <path d=\"M 32.171875 -5.078125 \nQ 28.375 -14.84375 24.75 -17.8125 \nQ 21.140625 -20.796875 15.09375 -20.796875 \nL 7.90625 -20.796875 \nL 7.90625 -13.28125 \nL 13.1875 -13.28125 \nQ 16.890625 -13.28125 18.9375 -11.515625 \nQ 21 -9.765625 23.484375 -3.21875 \nL 25.09375 0.875 \nL 2.984375 54.6875 \nL 12.5 54.6875 \nL 29.59375 11.921875 \nL 46.6875 54.6875 \nL 56.203125 54.6875 \nz\n\" id=\"DejaVuSans-121\"/>\n     </defs>\n     <g transform=\"translate(14.798438 100.276562)rotate(-90)scale(0.1 -0.1)\">\n      <use xlink:href=\"#DejaVuSans-112\"/>\n      <use x=\"63.476562\" xlink:href=\"#DejaVuSans-101\"/>\n      <use x=\"125\" xlink:href=\"#DejaVuSans-114\"/>\n      <use x=\"166.113281\" xlink:href=\"#DejaVuSans-112\"/>\n      <use x=\"229.589844\" xlink:href=\"#DejaVuSans-108\"/>\n      <use x=\"257.373047\" xlink:href=\"#DejaVuSans-101\"/>\n      <use x=\"317.146484\" xlink:href=\"#DejaVuSans-120\"/>\n      <use x=\"376.326172\" xlink:href=\"#DejaVuSans-105\"/>\n      <use x=\"404.109375\" xlink:href=\"#DejaVuSans-116\"/>\n      <use x=\"443.318359\" xlink:href=\"#DejaVuSans-121\"/>\n     </g>\n    </g>\n   </g>\n   <g id=\"line2d_17\">\n    <path clip-path=\"url(#p34e50e7d8e)\" d=\"M 43.78125 68.742578 \nL 45.753977 69.512831 \nL 47.726705 70.891276 \nL 49.699432 73.437567 \nL 51.672159 75.733995 \nL 53.644886 79.381356 \nL 55.617614 84.825086 \nL 57.590341 89.274318 \nL 59.563068 94.89796 \nL 61.535795 101.064875 \nL 63.508523 103.699161 \nL 65.48125 110.925061 \nL 67.453977 112.460796 \nL 69.426705 116.909686 \nL 71.399432 119.606274 \nL 73.372159 121.752 \nL 75.344886 122.254688 \nL 77.317614 122.615245 \nL 79.290341 116.772829 \nL 81.263068 126.452078 \nL 83.235795 124.832867 \nL 85.208523 129.263155 \nL 87.18125 130.955809 \nL 89.153977 130.689955 \nL 91.126705 131.174565 \nL 93.099432 131.816315 \nL 95.072159 131.234532 \nL 97.044886 132.541775 \nL 99.017614 131.447394 \nL 100.990341 132.218697 \nL 102.963068 131.588293 \nL 104.935795 133.250538 \nL 106.908523 133.356138 \nL 108.88125 132.805671 \nL 110.853977 134.347389 \nL 112.826705 133.593141 \nL 114.799432 132.889905 \nL 116.772159 134.58694 \nL 118.744886 133.637813 \nL 120.717614 133.081421 \nL 122.690341 132.694136 \nL 124.663068 135.206063 \nL 126.635795 135.24677 \nL 128.608523 134.310692 \nL 130.58125 134.570572 \nL 132.553977 135.372707 \nL 134.526705 133.241674 \nL 136.499432 135.584738 \nL 138.472159 134.18602 \nL 140.444886 126.557965 \nL 142.417614 127.522366 \nL 144.390341 135.688216 \nL 146.363068 134.334327 \nL 148.335795 135.783472 \nL 150.308523 132.844082 \nL 152.28125 135.376069 \nL 154.253977 134.794897 \nL 156.226705 134.857241 \nL 158.199432 135.630819 \nL 160.172159 135.593022 \nL 162.144886 135.604097 \nL 164.117614 134.904514 \nL 166.090341 135.951641 \nL 168.063068 135.954126 \nL 170.035795 136.030123 \nL 172.008523 134.516778 \nL 173.98125 135.676931 \nL 175.953977 134.719627 \nL 177.926705 134.692133 \nL 179.899432 135.313155 \nL 181.872159 135.077866 \nL 183.844886 134.997473 \nL 185.817614 136.284925 \nL 187.790341 135.906066 \nL 189.763068 135.521531 \nL 191.735795 135.275342 \nL 193.708523 134.32572 \nL 195.68125 134.94646 \nL 197.653977 136.122624 \nL 199.626705 135.948812 \nL 201.599432 136.284448 \nL 203.572159 135.973345 \nL 205.544886 136.286187 \nL 207.517614 136.664598 \nL 209.490341 135.458987 \nL 211.463068 135.600385 \nL 213.435795 136.032987 \nL 215.408523 136.503409 \nL 217.38125 135.69985 \nL 219.353977 131.548121 \nL 221.326705 136.261872 \nL 223.299432 136.087906 \nL 225.272159 135.604292 \nL 227.244886 136.494913 \nL 229.217614 136.753937 \nL 231.190341 135.755218 \nL 233.163068 136.759673 \nL 235.135795 136.922727 \nL 237.108523 134.676178 \nL 239.08125 135.917859 \n\" style=\"fill:none;stroke:#1f77b4;stroke-linecap:square;stroke-width:1.5;\"/>\n   </g>\n   <g id=\"line2d_18\">\n    <path clip-path=\"url(#p34e50e7d8e)\" d=\"M 43.78125 98.470137 \nL 45.753977 95.872417 \nL 47.726705 91.847122 \nL 49.699432 85.738971 \nL 51.672159 82.72 \nL 53.644886 76.37782 \nL 55.617614 67.625144 \nL 57.590341 61.329769 \nL 59.563068 54.706755 \nL 61.535795 47.124223 \nL 63.508523 45.345604 \nL 65.48125 35.63341 \nL 67.453977 35.563201 \nL 69.426705 30.367762 \nL 71.399432 27.816848 \nL 73.372159 25.616978 \nL 75.344886 26.061633 \nL 77.317614 25.827604 \nL 79.290341 33.293122 \nL 81.263068 21.872517 \nL 83.235795 24.470237 \nL 85.208523 19.251395 \nL 87.18125 17.847222 \nL 89.153977 18.245071 \nL 91.126705 17.753611 \nL 93.099432 17.238748 \nL 95.072159 17.82382 \nL 97.044886 16.60687 \nL 99.017614 17.964237 \nL 100.990341 17.121733 \nL 102.963068 17.964237 \nL 104.935795 16.138812 \nL 106.908523 16.138812 \nL 108.88125 16.794093 \nL 110.853977 15.296309 \nL 112.826705 16.092007 \nL 114.799432 16.957913 \nL 116.772159 15.202697 \nL 118.744886 16.115409 \nL 120.717614 16.747287 \nL 122.690341 17.191942 \nL 124.663068 14.804848 \nL 126.635795 14.758043 \nL 128.608523 15.623949 \nL 130.58125 15.436726 \nL 132.553977 14.641028 \nL 134.526705 16.536661 \nL 136.499432 14.430402 \nL 138.472159 15.787769 \nL 140.444886 23.534122 \nL 142.417614 22.738424 \nL 144.390341 14.406999 \nL 146.363068 15.740963 \nL 148.335795 14.313388 \nL 150.308523 17.09833 \nL 152.28125 14.664431 \nL 154.253977 15.319712 \nL 156.226705 15.272906 \nL 158.199432 14.570819 \nL 160.172159 14.570819 \nL 162.144886 14.500611 \nL 164.117614 15.249503 \nL 166.090341 14.219776 \nL 168.063068 14.196373 \nL 170.035795 14.126165 \nL 172.008523 15.55374 \nL 173.98125 14.500611 \nL 175.953977 15.413323 \nL 177.926705 15.413323 \nL 179.899432 14.851654 \nL 181.872159 15.06228 \nL 183.844886 15.155891 \nL 185.817614 13.915539 \nL 187.790341 14.289985 \nL 189.763068 14.453805 \nL 191.735795 14.804848 \nL 193.708523 15.857978 \nL 195.68125 15.249503 \nL 197.653977 14.126165 \nL 199.626705 14.289985 \nL 201.599432 13.962345 \nL 203.572159 14.243179 \nL 205.544886 13.962345 \nL 207.517614 13.611302 \nL 209.490341 14.73464 \nL 211.463068 14.594222 \nL 213.435795 14.196373 \nL 215.408523 13.775122 \nL 217.38125 14.570819 \nL 219.353977 18.362086 \nL 221.326705 14.00915 \nL 223.299432 14.172971 \nL 225.272159 14.570819 \nL 227.244886 13.775122 \nL 229.217614 13.541093 \nL 231.190341 14.477208 \nL 233.163068 13.541093 \nL 235.135795 13.377273 \nL 237.108523 15.436726 \nL 239.08125 14.360194 \n\" style=\"fill:none;stroke:#bf00bf;stroke-dasharray:5.55,2.4;stroke-dashoffset:0;stroke-width:1.5;\"/>\n   </g>\n   <g id=\"line2d_19\">\n    <path clip-path=\"url(#p34e50e7d8e)\" d=\"M 43.78125 103.688978 \nL 45.753977 105.030743 \nL 47.726705 100.670007 \nL 49.699432 97.651036 \nL 51.672159 103.353537 \nL 53.644886 102.682655 \nL 55.617614 104.695302 \nL 57.590341 101.005448 \nL 59.563068 91.948535 \nL 61.535795 87.587798 \nL 63.508523 87.92324 \nL 65.48125 98.992801 \nL 67.453977 98.321918 \nL 69.426705 97.315595 \nL 71.399432 89.265005 \nL 73.372159 83.897945 \nL 75.344886 84.233386 \nL 77.317614 85.23971 \nL 79.290341 64.442352 \nL 81.263068 94.632065 \nL 83.235795 72.492942 \nL 85.208523 89.600446 \nL 87.18125 94.632065 \nL 89.153977 81.214415 \nL 91.126705 78.195443 \nL 93.099432 86.581475 \nL 95.072159 81.214415 \nL 97.044886 81.214415 \nL 99.017614 78.195443 \nL 100.990341 94.632065 \nL 102.963068 90.271328 \nL 104.935795 91.277652 \nL 106.908523 75.847355 \nL 108.88125 90.271328 \nL 110.853977 68.803088 \nL 112.826705 73.499266 \nL 114.799432 79.201767 \nL 116.772159 96.644712 \nL 118.744886 90.60677 \nL 120.717614 88.258681 \nL 122.690341 89.600446 \nL 124.663068 84.233386 \nL 126.635795 86.916916 \nL 128.608523 77.524561 \nL 130.58125 80.878973 \nL 132.553977 85.575151 \nL 134.526705 82.891621 \nL 136.499432 62.765146 \nL 138.472159 78.530885 \nL 140.444886 96.309271 \nL 142.417614 96.644712 \nL 144.390341 85.575151 \nL 146.363068 93.625741 \nL 148.335795 78.530885 \nL 150.308523 82.891621 \nL 152.28125 88.258681 \nL 154.253977 77.18912 \nL 156.226705 70.480295 \nL 158.199432 95.638388 \nL 160.172159 78.530885 \nL 162.144886 95.638388 \nL 164.117614 73.834707 \nL 166.090341 94.296623 \nL 168.063068 94.296623 \nL 170.035795 78.195443 \nL 172.008523 77.524561 \nL 173.98125 71.82206 \nL 175.953977 60.417057 \nL 177.926705 78.195443 \nL 179.899432 83.897945 \nL 181.872159 76.518237 \nL 183.844886 75.847355 \nL 185.817614 98.65736 \nL 187.790341 74.841031 \nL 189.763068 89.935887 \nL 191.735795 79.87265 \nL 193.708523 75.176472 \nL 195.68125 89.600446 \nL 197.653977 80.878973 \nL 199.626705 91.613093 \nL 201.599432 79.537208 \nL 203.572159 74.841031 \nL 205.544886 78.530885 \nL 207.517614 81.214415 \nL 209.490341 86.581475 \nL 211.463068 69.809412 \nL 213.435795 77.18912 \nL 215.408523 77.18912 \nL 217.38125 92.283976 \nL 219.353977 82.891621 \nL 221.326705 77.524561 \nL 223.299432 74.170148 \nL 225.272159 94.296623 \nL 227.244886 76.518237 \nL 229.217614 79.87265 \nL 231.190341 77.18912 \nL 233.163068 76.518237 \nL 235.135795 89.600446 \nL 237.108523 73.499266 \nL 239.08125 87.587798 \n\" style=\"fill:none;stroke:#008000;stroke-dasharray:9.6,2.4,1.5,2.4;stroke-dashoffset:0;stroke-width:1.5;\"/>\n   </g>\n   <g id=\"patch_3\">\n    <path d=\"M 43.78125 143.1 \nL 43.78125 7.2 \n\" style=\"fill:none;stroke:#000000;stroke-linecap:square;stroke-linejoin:miter;stroke-width:0.8;\"/>\n   </g>\n   <g id=\"patch_4\">\n    <path d=\"M 239.08125 143.1 \nL 239.08125 7.2 \n\" style=\"fill:none;stroke:#000000;stroke-linecap:square;stroke-linejoin:miter;stroke-width:0.8;\"/>\n   </g>\n   <g id=\"patch_5\">\n    <path d=\"M 43.78125 143.1 \nL 239.08125 143.1 \n\" style=\"fill:none;stroke:#000000;stroke-linecap:square;stroke-linejoin:miter;stroke-width:0.8;\"/>\n   </g>\n   <g id=\"patch_6\">\n    <path d=\"M 43.78125 7.2 \nL 239.08125 7.2 \n\" style=\"fill:none;stroke:#000000;stroke-linecap:square;stroke-linejoin:miter;stroke-width:0.8;\"/>\n   </g>\n   <g id=\"legend_1\">\n    <g id=\"patch_7\">\n     <path d=\"M 50.78125 59.234375 \nL 128.55 59.234375 \nQ 130.55 59.234375 130.55 57.234375 \nL 130.55 14.2 \nQ 130.55 12.2 128.55 12.2 \nL 50.78125 12.2 \nQ 48.78125 12.2 48.78125 14.2 \nL 48.78125 57.234375 \nQ 48.78125 59.234375 50.78125 59.234375 \nz\n\" style=\"fill:#ffffff;opacity:0.8;stroke:#cccccc;stroke-linejoin:miter;\"/>\n    </g>\n    <g id=\"line2d_20\">\n     <path d=\"M 52.78125 20.298438 \nL 72.78125 20.298438 \n\" style=\"fill:none;stroke:#1f77b4;stroke-linecap:square;stroke-width:1.5;\"/>\n    </g>\n    <g id=\"line2d_21\"/>\n    <g id=\"text_11\">\n     <!-- train loss -->\n     <defs>\n      <path d=\"M 34.28125 27.484375 \nQ 23.390625 27.484375 19.1875 25 \nQ 14.984375 22.515625 14.984375 16.5 \nQ 14.984375 11.71875 18.140625 8.90625 \nQ 21.296875 6.109375 26.703125 6.109375 \nQ 34.1875 6.109375 38.703125 11.40625 \nQ 43.21875 16.703125 43.21875 25.484375 \nL 43.21875 27.484375 \nz\nM 52.203125 31.203125 \nL 52.203125 0 \nL 43.21875 0 \nL 43.21875 8.296875 \nQ 40.140625 3.328125 35.546875 0.953125 \nQ 30.953125 -1.421875 24.3125 -1.421875 \nQ 15.921875 -1.421875 10.953125 3.296875 \nQ 6 8.015625 6 15.921875 \nQ 6 25.140625 12.171875 29.828125 \nQ 18.359375 34.515625 30.609375 34.515625 \nL 43.21875 34.515625 \nL 43.21875 35.40625 \nQ 43.21875 41.609375 39.140625 45 \nQ 35.0625 48.390625 27.6875 48.390625 \nQ 23 48.390625 18.546875 47.265625 \nQ 14.109375 46.140625 10.015625 43.890625 \nL 10.015625 52.203125 \nQ 14.9375 54.109375 19.578125 55.046875 \nQ 24.21875 56 28.609375 56 \nQ 40.484375 56 46.34375 49.84375 \nQ 52.203125 43.703125 52.203125 31.203125 \nz\n\" id=\"DejaVuSans-97\"/>\n      <path d=\"M 54.890625 33.015625 \nL 54.890625 0 \nL 45.90625 0 \nL 45.90625 32.71875 \nQ 45.90625 40.484375 42.875 44.328125 \nQ 39.84375 48.1875 33.796875 48.1875 \nQ 26.515625 48.1875 22.3125 43.546875 \nQ 18.109375 38.921875 18.109375 30.90625 \nL 18.109375 0 \nL 9.078125 0 \nL 9.078125 54.6875 \nL 18.109375 54.6875 \nL 18.109375 46.1875 \nQ 21.34375 51.125 25.703125 53.5625 \nQ 30.078125 56 35.796875 56 \nQ 45.21875 56 50.046875 50.171875 \nQ 54.890625 44.34375 54.890625 33.015625 \nz\n\" id=\"DejaVuSans-110\"/>\n      <path id=\"DejaVuSans-32\"/>\n      <path d=\"M 44.28125 53.078125 \nL 44.28125 44.578125 \nQ 40.484375 46.53125 36.375 47.5 \nQ 32.28125 48.484375 27.875 48.484375 \nQ 21.1875 48.484375 17.84375 46.4375 \nQ 14.5 44.390625 14.5 40.28125 \nQ 14.5 37.15625 16.890625 35.375 \nQ 19.28125 33.59375 26.515625 31.984375 \nL 29.59375 31.296875 \nQ 39.15625 29.25 43.1875 25.515625 \nQ 47.21875 21.78125 47.21875 15.09375 \nQ 47.21875 7.46875 41.1875 3.015625 \nQ 35.15625 -1.421875 24.609375 -1.421875 \nQ 20.21875 -1.421875 15.453125 -0.5625 \nQ 10.6875 0.296875 5.421875 2 \nL 5.421875 11.28125 \nQ 10.40625 8.6875 15.234375 7.390625 \nQ 20.0625 6.109375 24.8125 6.109375 \nQ 31.15625 6.109375 34.5625 8.28125 \nQ 37.984375 10.453125 37.984375 14.40625 \nQ 37.984375 18.0625 35.515625 20.015625 \nQ 33.0625 21.96875 24.703125 23.78125 \nL 21.578125 24.515625 \nQ 13.234375 26.265625 9.515625 29.90625 \nQ 5.8125 33.546875 5.8125 39.890625 \nQ 5.8125 47.609375 11.28125 51.796875 \nQ 16.75 56 26.8125 56 \nQ 31.78125 56 36.171875 55.265625 \nQ 40.578125 54.546875 44.28125 53.078125 \nz\n\" id=\"DejaVuSans-115\"/>\n     </defs>\n     <g transform=\"translate(80.78125 23.798438)scale(0.1 -0.1)\">\n      <use xlink:href=\"#DejaVuSans-116\"/>\n      <use x=\"39.208984\" xlink:href=\"#DejaVuSans-114\"/>\n      <use x=\"80.322266\" xlink:href=\"#DejaVuSans-97\"/>\n      <use x=\"141.601562\" xlink:href=\"#DejaVuSans-105\"/>\n      <use x=\"169.384766\" xlink:href=\"#DejaVuSans-110\"/>\n      <use x=\"232.763672\" xlink:href=\"#DejaVuSans-32\"/>\n      <use x=\"264.550781\" xlink:href=\"#DejaVuSans-108\"/>\n      <use x=\"292.333984\" xlink:href=\"#DejaVuSans-111\"/>\n      <use x=\"353.515625\" xlink:href=\"#DejaVuSans-115\"/>\n      <use x=\"405.615234\" xlink:href=\"#DejaVuSans-115\"/>\n     </g>\n    </g>\n    <g id=\"line2d_22\">\n     <path d=\"M 52.78125 34.976562 \nL 72.78125 34.976562 \n\" style=\"fill:none;stroke:#bf00bf;stroke-dasharray:5.55,2.4;stroke-dashoffset:0;stroke-width:1.5;\"/>\n    </g>\n    <g id=\"line2d_23\"/>\n    <g id=\"text_12\">\n     <!-- train acc -->\n     <g transform=\"translate(80.78125 38.476562)scale(0.1 -0.1)\">\n      <use xlink:href=\"#DejaVuSans-116\"/>\n      <use x=\"39.208984\" xlink:href=\"#DejaVuSans-114\"/>\n      <use x=\"80.322266\" xlink:href=\"#DejaVuSans-97\"/>\n      <use x=\"141.601562\" xlink:href=\"#DejaVuSans-105\"/>\n      <use x=\"169.384766\" xlink:href=\"#DejaVuSans-110\"/>\n      <use x=\"232.763672\" xlink:href=\"#DejaVuSans-32\"/>\n      <use x=\"264.550781\" xlink:href=\"#DejaVuSans-97\"/>\n      <use x=\"325.830078\" xlink:href=\"#DejaVuSans-99\"/>\n      <use x=\"380.810547\" xlink:href=\"#DejaVuSans-99\"/>\n     </g>\n    </g>\n    <g id=\"line2d_24\">\n     <path d=\"M 52.78125 49.654688 \nL 72.78125 49.654688 \n\" style=\"fill:none;stroke:#008000;stroke-dasharray:9.6,2.4,1.5,2.4;stroke-dashoffset:0;stroke-width:1.5;\"/>\n    </g>\n    <g id=\"line2d_25\"/>\n    <g id=\"text_13\">\n     <!-- test acc -->\n     <g transform=\"translate(80.78125 53.154688)scale(0.1 -0.1)\">\n      <use xlink:href=\"#DejaVuSans-116\"/>\n      <use x=\"39.208984\" xlink:href=\"#DejaVuSans-101\"/>\n      <use x=\"100.732422\" xlink:href=\"#DejaVuSans-115\"/>\n      <use x=\"152.832031\" xlink:href=\"#DejaVuSans-116\"/>\n      <use x=\"192.041016\" xlink:href=\"#DejaVuSans-32\"/>\n      <use x=\"223.828125\" xlink:href=\"#DejaVuSans-97\"/>\n      <use x=\"285.107422\" xlink:href=\"#DejaVuSans-99\"/>\n      <use x=\"340.087891\" xlink:href=\"#DejaVuSans-99\"/>\n     </g>\n    </g>\n   </g>\n  </g>\n </g>\n <defs>\n  <clipPath id=\"p34e50e7d8e\">\n   <rect height=\"135.9\" width=\"195.3\" x=\"43.78125\" y=\"7.2\"/>\n  </clipPath>\n </defs>\n</svg>\n"
          },
          "metadata": {
            "needs_background": "light"
          }
        }
      ]
    },
    {
      "cell_type": "code",
      "source": [
        "# # train_iter = seq_data_iter_sequential(corpus, 10, 20)\n",
        "# for X, Y in train_iter:\n",
        "#   print(X.shape)\n",
        "#   print(Y.shape)\n",
        "#   break"
      ],
      "metadata": {
        "colab": {
          "base_uri": "https://localhost:8080/"
        },
        "id": "Q49rAd4OkDnW",
        "outputId": "87a7c66d-87f7-4372-ba5f-6930ece25776"
      },
      "execution_count": null,
      "outputs": [
        {
          "output_type": "stream",
          "name": "stdout",
          "text": [
            "torch.Size([10, 20, 768])\n",
            "torch.Size([200, 768])\n"
          ]
        }
      ]
    },
    {
      "cell_type": "code",
      "source": [
        "# for X, Y in seq_data_iter_sequential(corpus, 10, 20):\n",
        "#   print(X.shape)\n",
        "#   print(Y.shape)\n",
        "#   break"
      ],
      "metadata": {
        "id": "pUUI1UbYcn1U"
      },
      "execution_count": null,
      "outputs": []
    },
    {
      "cell_type": "code",
      "source": [
        "# lstm1 = LSTM1(num_classes, input_size, hidden_size, num_layers, X_train_tensors_final.shape[1]) #our lstm class \n",
        "# # "
      ],
      "metadata": {
        "id": "cvkNKIdhYJ6D"
      },
      "execution_count": null,
      "outputs": []
    },
    {
      "cell_type": "markdown",
      "source": [
        "### 决策树 n_estimators=200, max_depth=10, random_state=0\n",
        "Result: 0.59"
      ],
      "metadata": {
        "id": "59gk8sM7Fo2E"
      }
    },
    {
      "cell_type": "code",
      "metadata": {
        "colab": {
          "base_uri": "https://localhost:8080/",
          "height": 499
        },
        "id": "q-Qr0yYZDn-y",
        "outputId": "c696a3e9-622f-4afc-8635-53f00ee92e95"
      },
      "source": [
        "import time\n",
        "st = time.time()\n",
        "model = RandomForestClassifier(n_estimators=200, max_depth=10, random_state=0)\n",
        "model.fit(bert_w2vec_X_train, y_train)\n",
        "predicted = model.predict(bert_w2vec_X_test)\n",
        "print(\"Total of # {} test cases\".format(len(y_test)))\n",
        "calculate_confusion_matrix_and_report(predicted, y_test)\n",
        "print(time.time() - st)"
      ],
      "execution_count": null,
      "outputs": [
        {
          "output_type": "stream",
          "name": "stdout",
          "text": [
            "Total of # 3546 test cases\n",
            "\n",
            "Classification Report\n",
            "              precision    recall  f1-score   support\n",
            "\n",
            "           0       0.62      0.27      0.38      1670\n",
            "           1       0.57      0.85      0.68      1876\n",
            "\n",
            "    accuracy                           0.58      3546\n",
            "   macro avg       0.59      0.56      0.53      3546\n",
            "weighted avg       0.59      0.58      0.54      3546\n",
            "\n"
          ]
        },
        {
          "output_type": "display_data",
          "data": {
            "image/png": "[encoded data removed]",
            "text/plain": [
              "<Figure size 432x288 with 2 Axes>"
            ]
          },
          "metadata": {
            "needs_background": "light"
          }
        },
        {
          "output_type": "stream",
          "name": "stdout",
          "text": [
            "50.14355778694153\n"
          ]
        }
      ]
    },
    {
      "cell_type": "code",
      "metadata": {
        "id": "jIZfUG3_Dn-y",
        "colab": {
          "base_uri": "https://localhost:8080/"
        },
        "outputId": "0a7eaa75-53f1-49e2-97d6-12f026debb9f"
      },
      "source": [
        "from sklearn.metrics import confusion_matrix\n",
        "confusion_matrix(y_test, predicted)"
      ],
      "execution_count": null,
      "outputs": [
        {
          "output_type": "execute_result",
          "data": {
            "text/plain": [
              "array([[ 457, 1213],\n",
              "       [ 286, 1590]])"
            ]
          },
          "metadata": {},
          "execution_count": 18
        }
      ]
    },
    {
      "cell_type": "code",
      "metadata": {
        "id": "SFThoti3qmQm",
        "colab": {
          "base_uri": "https://localhost:8080/",
          "height": 482
        },
        "outputId": "0689bfcf-e3d0-4470-e53c-09664c238ed6"
      },
      "source": [
        "predicted = model.predict(bert_w2vec_X_test)\n",
        "print(\"Total of # {} test cases\".format(len(y_test)))\n",
        "calculate_confusion_matrix_and_report(predicted, y_test)"
      ],
      "execution_count": null,
      "outputs": [
        {
          "output_type": "stream",
          "name": "stdout",
          "text": [
            "Total of # 3546 test cases\n",
            "\n",
            "Classification Report\n",
            "              precision    recall  f1-score   support\n",
            "\n",
            "           0       0.62      0.27      0.38      1670\n",
            "           1       0.57      0.85      0.68      1876\n",
            "\n",
            "    accuracy                           0.58      3546\n",
            "   macro avg       0.59      0.56      0.53      3546\n",
            "weighted avg       0.59      0.58      0.54      3546\n",
            "\n"
          ]
        },
        {
          "output_type": "display_data",
          "data": {
            "image/png": "[encoded data removed]",
            "text/plain": [
              "<Figure size 432x288 with 2 Axes>"
            ]
          },
          "metadata": {
            "needs_background": "light"
          }
        }
      ]
    },
    {
      "cell_type": "markdown",
      "source": [
        "### 决策树训练集0.77准确率"
      ],
      "metadata": {
        "id": "1CIv9tvlFxEl"
      }
    },
    {
      "cell_type": "code",
      "source": [
        "predicted = model.predict(bert_w2vec_X_train)\n",
        "print(\"Total of # {} train cases\".format(len(y_train)))\n",
        "calculate_confusion_matrix_and_report(predicted, y_train)"
      ],
      "metadata": {
        "colab": {
          "base_uri": "https://localhost:8080/",
          "height": 482
        },
        "id": "pKcapcec5OV9",
        "outputId": "ec6620bf-dbca-428e-a7f5-52af93a48c28"
      },
      "execution_count": null,
      "outputs": [
        {
          "output_type": "stream",
          "name": "stdout",
          "text": [
            "Total of # 14180 train cases\n",
            "\n",
            "Classification Report\n",
            "              precision    recall  f1-score   support\n",
            "\n",
            "           0       0.92      0.82      0.86      6678\n",
            "           1       0.85      0.94      0.89      7502\n",
            "\n",
            "    accuracy                           0.88     14180\n",
            "   macro avg       0.89      0.88      0.88     14180\n",
            "weighted avg       0.88      0.88      0.88     14180\n",
            "\n"
          ]
        },
        {
          "output_type": "display_data",
          "data": {
            "image/png": "[encoded data removed]",
            "text/plain": [
              "<Figure size 432x288 with 2 Axes>"
            ]
          },
          "metadata": {
            "needs_background": "light"
          }
        }
      ]
    },
    {
      "cell_type": "markdown",
      "source": [
        "### XGB n_estimators=100, max_depth=3, random_state=0"
      ],
      "metadata": {
        "id": "kYswG_br7Pct"
      }
    },
    {
      "cell_type": "code",
      "source": [
        "from xgboost import XGBClassifier\n",
        "model = XGBClassifier(random_state=0)\n",
        "model.fit(bert_w2vec_X_train, y_train)\n",
        "predicted = model.predict(bert_w2vec_X_test)\n",
        "print(\"Total of # {} test cases\".format(len(y_test)))\n",
        "calculate_confusion_matrix_and_report(predicted, y_test)"
      ],
      "metadata": {
        "colab": {
          "base_uri": "https://localhost:8080/",
          "height": 482
        },
        "id": "qAO8gaYn5RwJ",
        "outputId": "312d8070-f7a3-435e-99a1-029f93727617"
      },
      "execution_count": null,
      "outputs": [
        {
          "output_type": "stream",
          "name": "stdout",
          "text": [
            "Total of # 3546 test cases\n",
            "\n",
            "Classification Report\n",
            "              precision    recall  f1-score   support\n",
            "\n",
            "           0       0.54      0.33      0.41      1670\n",
            "           1       0.56      0.75      0.64      1876\n",
            "\n",
            "    accuracy                           0.55      3546\n",
            "   macro avg       0.55      0.54      0.52      3546\n",
            "weighted avg       0.55      0.55      0.53      3546\n",
            "\n"
          ]
        },
        {
          "output_type": "display_data",
          "data": {
            "image/png": "[encoded data removed]",
            "text/plain": [
              "<Figure size 432x288 with 2 Axes>"
            ]
          },
          "metadata": {
            "needs_background": "light"
          }
        }
      ]
    },
    {
      "cell_type": "code",
      "source": [
        ""
      ],
      "metadata": {
        "id": "xPbwknsK7Gy0"
      },
      "execution_count": null,
      "outputs": []
    },
    {
      "cell_type": "markdown",
      "source": [
        "### XGB n_estimators=100, max_depth=5, random_state=0\n",
        "Result: 0.58 Time: 251"
      ],
      "metadata": {
        "id": "ckEtGjU57HT6"
      }
    },
    {
      "cell_type": "markdown",
      "source": [
        ""
      ],
      "metadata": {
        "id": "WmaNe8go_-eo"
      }
    },
    {
      "cell_type": "code",
      "source": [
        "import time\n",
        "from xgboost import XGBClassifier\n",
        "st = time.time()\n",
        "model = XGBClassifier(n_estimators=100, max_depth=5, random_state=0)\n",
        "model.fit(bert_w2vec_X_train, y_train)\n",
        "predicted = model.predict(bert_w2vec_X_test)\n",
        "print(\"Total of # {} test cases\".format(len(y_test)))\n",
        "calculate_confusion_matrix_and_report(predicted, y_test)\n",
        "print(time.time() - st)"
      ],
      "metadata": {
        "colab": {
          "base_uri": "https://localhost:8080/",
          "height": 499
        },
        "id": "tbNbbNNg5n1_",
        "outputId": "ee5a2018-edd8-4d3b-d096-a0fec943dfdf"
      },
      "execution_count": null,
      "outputs": [
        {
          "output_type": "stream",
          "name": "stdout",
          "text": [
            "Total of # 3546 test cases\n",
            "\n",
            "Classification Report\n",
            "              precision    recall  f1-score   support\n",
            "\n",
            "           0       0.55      0.41      0.47      1670\n",
            "           1       0.57      0.70      0.63      1876\n",
            "\n",
            "    accuracy                           0.56      3546\n",
            "   macro avg       0.56      0.55      0.55      3546\n",
            "weighted avg       0.56      0.56      0.55      3546\n",
            "\n"
          ]
        },
        {
          "output_type": "display_data",
          "data": {
            "image/png": "[encoded data removed]",
            "text/plain": [
              "<Figure size 432x288 with 2 Axes>"
            ]
          },
          "metadata": {
            "needs_background": "light"
          }
        },
        {
          "output_type": "stream",
          "name": "stdout",
          "text": [
            "87.92139196395874\n"
          ]
        }
      ]
    },
    {
      "cell_type": "code",
      "source": [
        ""
      ],
      "metadata": {
        "id": "QBTjY3q87F_h"
      },
      "execution_count": null,
      "outputs": []
    },
    {
      "cell_type": "markdown",
      "source": [
        "### XGB n_estimators=100, max_depth=10, random_state=0\n",
        "Result: 0.59 Time: 506"
      ],
      "metadata": {
        "id": "-0tm-x6l__XT"
      }
    },
    {
      "cell_type": "code",
      "source": [
        "import time\n",
        "from xgboost import XGBClassifier\n",
        "st = time.time()\n",
        "model = XGBClassifier(n_estimators=100, max_depth=10, random_state=0)\n",
        "model.fit(bert_w2vec_X_train, y_train)\n",
        "predicted = model.predict(bert_w2vec_X_test)\n",
        "print(\"Total of # {} test cases\".format(len(y_test)))\n",
        "calculate_confusion_matrix_and_report(predicted, y_test)\n",
        "print(time.time() - st)"
      ],
      "metadata": {
        "colab": {
          "base_uri": "https://localhost:8080/",
          "height": 499
        },
        "id": "F9Y4BMzJ__z7",
        "outputId": "de93d551-b380-4219-ed6c-56663e64c1ec"
      },
      "execution_count": null,
      "outputs": [
        {
          "output_type": "stream",
          "name": "stdout",
          "text": [
            "Total of # 3546 test cases\n",
            "\n",
            "Classification Report\n",
            "              precision    recall  f1-score   support\n",
            "\n",
            "           0       0.55      0.46      0.50      1670\n",
            "           1       0.58      0.67      0.62      1876\n",
            "\n",
            "    accuracy                           0.57      3546\n",
            "   macro avg       0.56      0.56      0.56      3546\n",
            "weighted avg       0.57      0.57      0.56      3546\n",
            "\n"
          ]
        },
        {
          "output_type": "display_data",
          "data": {
            "image/png": "[encoded data removed]",
            "text/plain": [
              "<Figure size 432x288 with 2 Axes>"
            ]
          },
          "metadata": {
            "needs_background": "light"
          }
        },
        {
          "output_type": "stream",
          "name": "stdout",
          "text": [
            "177.4775311946869\n"
          ]
        }
      ]
    },
    {
      "cell_type": "code",
      "source": [
        ""
      ],
      "metadata": {
        "id": "-D1kFOCbAEdC"
      },
      "execution_count": null,
      "outputs": []
    },
    {
      "cell_type": "markdown",
      "source": [
        "### n_estimators=200, max_depth=5, random_state=0\n",
        "Result: 0.58 Time: 493"
      ],
      "metadata": {
        "id": "Majqn5M4COd7"
      }
    },
    {
      "cell_type": "code",
      "source": [
        "import time\n",
        "from xgboost import XGBClassifier\n",
        "st = time.time()\n",
        "model = XGBClassifier(n_estimators=200, max_depth=5, random_state=0)\n",
        "model.fit(bert_w2vec_X_train, y_train)\n",
        "predicted = model.predict(bert_w2vec_X_test)\n",
        "print(\"Total of # {} test cases\".format(len(y_test)))\n",
        "calculate_confusion_matrix_and_report(predicted, y_test)\n",
        "print(time.time() - st)"
      ],
      "metadata": {
        "colab": {
          "base_uri": "https://localhost:8080/",
          "height": 499
        },
        "id": "DQ5Vd1yICPCK",
        "outputId": "47a6dc7a-5928-48b3-aae0-f68804f6c735"
      },
      "execution_count": null,
      "outputs": [
        {
          "output_type": "stream",
          "name": "stdout",
          "text": [
            "Total of # 3546 test cases\n",
            "\n",
            "Classification Report\n",
            "              precision    recall  f1-score   support\n",
            "\n",
            "           0       0.55      0.45      0.49      1670\n",
            "           1       0.58      0.68      0.62      1876\n",
            "\n",
            "    accuracy                           0.57      3546\n",
            "   macro avg       0.57      0.56      0.56      3546\n",
            "weighted avg       0.57      0.57      0.56      3546\n",
            "\n"
          ]
        },
        {
          "output_type": "display_data",
          "data": {
            "image/png": "[encoded data removed]",
            "text/plain": [
              "<Figure size 432x288 with 2 Axes>"
            ]
          },
          "metadata": {
            "needs_background": "light"
          }
        },
        {
          "output_type": "stream",
          "name": "stdout",
          "text": [
            "173.42756056785583\n"
          ]
        }
      ]
    },
    {
      "cell_type": "code",
      "source": [
        ""
      ],
      "metadata": {
        "id": "E-5OhroPCUDc"
      },
      "execution_count": null,
      "outputs": []
    }
  ]
}